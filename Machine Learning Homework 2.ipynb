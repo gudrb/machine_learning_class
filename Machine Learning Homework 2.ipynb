{
 "cells": [
  {
   "cell_type": "markdown",
   "metadata": {},
   "source": [
    "# 1"
   ]
  },
  {
   "cell_type": "code",
   "execution_count": 26,
   "metadata": {},
   "outputs": [],
   "source": [
    "list1 = list([1,5,6,8])\n",
    "list2 = list([7,14,5,8,72])\n",
    "list3 = list([2,5,3])\n",
    "list4 = list([1,4,8])"
   ]
  },
  {
   "cell_type": "code",
   "execution_count": 12,
   "metadata": {},
   "outputs": [],
   "source": [
    "def list_intersect(list1,list2):\n",
    "    return list(set(list1).intersection(set(list2)))"
   ]
  },
  {
   "cell_type": "code",
   "execution_count": 186,
   "metadata": {},
   "outputs": [
    {
     "name": "stdout",
     "output_type": "stream",
     "text": [
      "[8, 5]\n",
      "[]\n"
     ]
    }
   ],
   "source": [
    "print(list_intersect(list1,list2))\n",
    "print(list_intersect(list3,list4))"
   ]
  },
  {
   "cell_type": "code",
   "execution_count": 27,
   "metadata": {},
   "outputs": [],
   "source": [
    "def rem_last(list1):\n",
    "    list1 = list1[:-1]\n",
    "    return list1"
   ]
  },
  {
   "cell_type": "code",
   "execution_count": 28,
   "metadata": {},
   "outputs": [
    {
     "name": "stdout",
     "output_type": "stream",
     "text": [
      "[1, 5, 6]\n"
     ]
    }
   ],
   "source": [
    "print(rem_last(list1))"
   ]
  },
  {
   "cell_type": "markdown",
   "metadata": {},
   "source": [
    "# 2"
   ]
  },
  {
   "cell_type": "markdown",
   "metadata": {},
   "source": [
    "dataset - zoo"
   ]
  },
  {
   "cell_type": "code",
   "execution_count": 32,
   "metadata": {},
   "outputs": [],
   "source": [
    "import csv\n",
    "import numpy as np\n",
    "with open('zoo.csv','r') as f:\n",
    "    reader = csv.reader(f)\n",
    "    a_list = list(reader)\n",
    "\n",
    "a_list[0][0] = 'TRUE' #글자깨짐\n",
    "\n",
    "a_list = np.array(a_list)"
   ]
  },
  {
   "cell_type": "code",
   "execution_count": 33,
   "metadata": {
    "scrolled": true
   },
   "outputs": [
    {
     "name": "stdout",
     "output_type": "stream",
     "text": [
      "num of rows: 101 \n",
      "num of columns: 17\n"
     ]
    }
   ],
   "source": [
    "print(\"num of rows: %d \" %a_list.shape[0])\n",
    "print(\"num of columns: %d\" %a_list.shape[1])"
   ]
  },
  {
   "cell_type": "code",
   "execution_count": 34,
   "metadata": {
    "scrolled": false
   },
   "outputs": [
    {
     "name": "stdout",
     "output_type": "stream",
     "text": [
      "[['TRUE' 'FALSE' 'FALSE' 'TRUE' 'FALSE' 'FALSE' 'TRUE' 'TRUE' 'TRUE'\n",
      "  'TRUE' 'FALSE' 'FALSE' '4' 'FALSE' 'FALSE' 'TRUE' 'mammal']\n",
      " ['TRUE' 'FALSE' 'FALSE' 'TRUE' 'FALSE' 'FALSE' 'FALSE' 'TRUE' 'TRUE'\n",
      "  'TRUE' 'FALSE' 'FALSE' '4' 'TRUE' 'FALSE' 'TRUE' 'mammal']\n",
      " ['FALSE' 'FALSE' 'TRUE' 'FALSE' 'FALSE' 'TRUE' 'TRUE' 'TRUE' 'TRUE'\n",
      "  'FALSE' 'FALSE' 'TRUE' '0' 'TRUE' 'FALSE' 'FALSE' 'fish']\n",
      " ['TRUE' 'FALSE' 'FALSE' 'TRUE' 'FALSE' 'FALSE' 'TRUE' 'TRUE' 'TRUE'\n",
      "  'TRUE' 'FALSE' 'FALSE' '4' 'FALSE' 'FALSE' 'TRUE' 'mammal']\n",
      " ['TRUE' 'FALSE' 'FALSE' 'TRUE' 'FALSE' 'FALSE' 'TRUE' 'TRUE' 'TRUE'\n",
      "  'TRUE' 'FALSE' 'FALSE' '4' 'TRUE' 'FALSE' 'TRUE' 'mammal']\n",
      " ['TRUE' 'FALSE' 'FALSE' 'TRUE' 'FALSE' 'FALSE' 'FALSE' 'TRUE' 'TRUE'\n",
      "  'TRUE' 'FALSE' 'FALSE' '4' 'TRUE' 'FALSE' 'TRUE' 'mammal']\n",
      " ['TRUE' 'FALSE' 'FALSE' 'TRUE' 'FALSE' 'FALSE' 'FALSE' 'TRUE' 'TRUE'\n",
      "  'TRUE' 'FALSE' 'FALSE' '4' 'TRUE' 'TRUE' 'TRUE' 'mammal']\n",
      " ['FALSE' 'FALSE' 'TRUE' 'FALSE' 'FALSE' 'TRUE' 'FALSE' 'TRUE' 'TRUE'\n",
      "  'FALSE' 'FALSE' 'TRUE' '0' 'TRUE' 'TRUE' 'FALSE' 'fish']\n",
      " ['FALSE' 'FALSE' 'TRUE' 'FALSE' 'FALSE' 'TRUE' 'TRUE' 'TRUE' 'TRUE'\n",
      "  'FALSE' 'FALSE' 'TRUE' '0' 'TRUE' 'FALSE' 'FALSE' 'fish']\n",
      " ['TRUE' 'FALSE' 'FALSE' 'TRUE' 'FALSE' 'FALSE' 'FALSE' 'TRUE' 'TRUE'\n",
      "  'TRUE' 'FALSE' 'FALSE' '4' 'FALSE' 'TRUE' 'FALSE' 'mammal']\n",
      " ['TRUE' 'FALSE' 'FALSE' 'TRUE' 'FALSE' 'FALSE' 'TRUE' 'TRUE' 'TRUE'\n",
      "  'TRUE' 'FALSE' 'FALSE' '4' 'TRUE' 'FALSE' 'TRUE' 'mammal']\n",
      " ['FALSE' 'TRUE' 'TRUE' 'FALSE' 'TRUE' 'FALSE' 'FALSE' 'FALSE' 'TRUE'\n",
      "  'TRUE' 'FALSE' 'FALSE' '2' 'TRUE' 'TRUE' 'FALSE' 'bird']\n",
      " ['FALSE' 'FALSE' 'TRUE' 'FALSE' 'FALSE' 'TRUE' 'TRUE' 'TRUE' 'TRUE'\n",
      "  'FALSE' 'FALSE' 'TRUE' '0' 'TRUE' 'FALSE' 'FALSE' 'fish']\n",
      " ['FALSE' 'FALSE' 'TRUE' 'FALSE' 'FALSE' 'FALSE' 'TRUE' 'FALSE' 'FALSE'\n",
      "  'FALSE' 'FALSE' 'FALSE' '0' 'FALSE' 'FALSE' 'FALSE' 'invertebrate']\n",
      " ['FALSE' 'FALSE' 'TRUE' 'FALSE' 'FALSE' 'TRUE' 'TRUE' 'FALSE' 'FALSE'\n",
      "  'FALSE' 'FALSE' 'FALSE' '4' 'FALSE' 'FALSE' 'FALSE' 'invertebrate']\n",
      " ['FALSE' 'FALSE' 'TRUE' 'FALSE' 'FALSE' 'TRUE' 'TRUE' 'FALSE' 'FALSE'\n",
      "  'FALSE' 'FALSE' 'FALSE' '6' 'FALSE' 'FALSE' 'FALSE' 'invertebrate']\n",
      " ['FALSE' 'TRUE' 'TRUE' 'FALSE' 'TRUE' 'FALSE' 'TRUE' 'FALSE' 'TRUE'\n",
      "  'TRUE' 'FALSE' 'FALSE' '2' 'TRUE' 'FALSE' 'FALSE' 'bird']\n",
      " ['TRUE' 'FALSE' 'FALSE' 'TRUE' 'FALSE' 'FALSE' 'FALSE' 'TRUE' 'TRUE'\n",
      "  'TRUE' 'FALSE' 'FALSE' '4' 'TRUE' 'FALSE' 'TRUE' 'mammal']\n",
      " ['FALSE' 'FALSE' 'TRUE' 'FALSE' 'FALSE' 'TRUE' 'TRUE' 'TRUE' 'TRUE'\n",
      "  'FALSE' 'FALSE' 'TRUE' '0' 'TRUE' 'FALSE' 'TRUE' 'fish']\n",
      " ['FALSE' 'FALSE' 'FALSE' 'TRUE' 'FALSE' 'TRUE' 'TRUE' 'TRUE' 'TRUE'\n",
      "  'TRUE' 'FALSE' 'TRUE' '0' 'TRUE' 'FALSE' 'TRUE' 'mammal']]\n"
     ]
    }
   ],
   "source": [
    "import copy\n",
    "b_list = copy.copy(a_list[:20])\n",
    "print(b_list)"
   ]
  },
  {
   "cell_type": "code",
   "execution_count": 63,
   "metadata": {},
   "outputs": [
    {
     "data": {
      "text/plain": [
       "(20, 17)"
      ]
     },
     "execution_count": 63,
     "metadata": {},
     "output_type": "execute_result"
    }
   ],
   "source": [
    "b_list.shape"
   ]
  },
  {
   "cell_type": "markdown",
   "metadata": {},
   "source": [
    "# 3"
   ]
  },
  {
   "cell_type": "code",
   "execution_count": 75,
   "metadata": {},
   "outputs": [],
   "source": [
    "import random\n",
    "def rand_less(no_attr):\n",
    "    num = random.randint(0,no_attr-1)\n",
    "    return num\n",
    "        "
   ]
  },
  {
   "cell_type": "markdown",
   "metadata": {},
   "source": [
    "# 4"
   ]
  },
  {
   "cell_type": "code",
   "execution_count": 81,
   "metadata": {},
   "outputs": [
    {
     "name": "stdout",
     "output_type": "stream",
     "text": [
      "['FALSE' 'FALSE' 'FALSE' 'FALSE' 'FALSE' 'FALSE' 'FALSE' 'FALSE' 'FALSE'\n",
      " 'FALSE' 'FALSE' 'TRUE' 'FALSE' 'FALSE' 'FALSE' 'FALSE' 'TRUE' 'FALSE'\n",
      " 'FALSE' 'FALSE']\n"
     ]
    }
   ],
   "source": [
    "b_list_select = b_list[:,rand_less(b_list.shape[1])]\n",
    "print(b_list_select)"
   ]
  },
  {
   "cell_type": "code",
   "execution_count": 82,
   "metadata": {},
   "outputs": [
    {
     "name": "stdout",
     "output_type": "stream",
     "text": [
      "['FALSE' 'FALSE' 'FALSE' 'TRUE' 'FALSE' 'FALSE' 'FALSE' 'FALSE' 'TRUE'\n",
      " 'FALSE' 'FALSE' 'FALSE' 'FALSE' 'FALSE' 'FALSE' 'FALSE' 'FALSE' 'FALSE'\n",
      " 'FALSE' 'FALSE']\n"
     ]
    }
   ],
   "source": [
    "b_list_select_reverse = b_list_select[::-1]\n",
    "print(b_list_select_reverse)"
   ]
  },
  {
   "cell_type": "code",
   "execution_count": 83,
   "metadata": {
    "scrolled": true
   },
   "outputs": [
    {
     "name": "stdout",
     "output_type": "stream",
     "text": [
      "['FALSE' 'FALSE' 'FALSE' 'TRUE' 'FALSE' 'FALSE' 'FALSE' 'FALSE' 'TRUE'\n",
      " 'FALSE' 'FALSE' 'FALSE' 'FALSE' 'FALSE' 'FALSE' 'FALSE' 'FALSE' 'FALSE'\n",
      " 'FALSE' 'FALSE']\n"
     ]
    }
   ],
   "source": [
    "import copy\n",
    "list_c = copy.copy(b_list_select_reverse)\n",
    "print(list_c)"
   ]
  },
  {
   "cell_type": "markdown",
   "metadata": {},
   "source": [
    "# 5"
   ]
  },
  {
   "cell_type": "code",
   "execution_count": 86,
   "metadata": {
    "scrolled": true
   },
   "outputs": [
    {
     "name": "stdout",
     "output_type": "stream",
     "text": [
      "['FALSE' 'TRUE' 'TRUE' 'fish' 'FALSE' 'FALSE' 'TRUE' 'FALSE' 'TRUE' 'TRUE'\n",
      " '4' 'TRUE' 'TRUE' 'TRUE' 'TRUE' 'FALSE' 'mammal' '0' 'FALSE' 'TRUE'\n",
      " 'FALSE' 'FALSE' 'TRUE' 'TRUE' 'TRUE' 'FALSE' 'FALSE' 'FALSE' 'TRUE'\n",
      " 'TRUE' 'TRUE' 'TRUE' 'TRUE' 'TRUE' 'TRUE' 'TRUE' 'FALSE' 'FALSE' 'FALSE'\n",
      " 'TRUE' '4' 'TRUE' 'FALSE' 'FALSE' 'FALSE' 'FALSE' 'TRUE' 'TRUE' 'TRUE'\n",
      " 'FALSE' 'TRUE' 'TRUE' 'FALSE' 'TRUE' 'FALSE' 'TRUE' 'FALSE' 'FALSE'\n",
      " 'TRUE' 'TRUE' 'TRUE' 'TRUE' 'TRUE' 'TRUE' 'FALSE' 'FALSE' 'fish' 'TRUE'\n",
      " 'FALSE' 'FALSE' 'FALSE' 'FALSE' 'TRUE' 'FALSE' 'TRUE' 'FALSE' 'FALSE'\n",
      " 'FALSE' 'FALSE' 'TRUE' 'TRUE' 'FALSE' '0' '0' 'mammal' 'TRUE' 'FALSE'\n",
      " 'TRUE' 'bird' 'FALSE' 'FALSE' 'FALSE' 'TRUE' 'TRUE' 'FALSE' 'TRUE' '0'\n",
      " 'FALSE' 'FALSE' 'FALSE' 'FALSE' 'FALSE' 'mammal' 'FALSE' 'FALSE' 'FALSE'\n",
      " 'FALSE' 'TRUE' 'TRUE' 'TRUE' 'FALSE' 'FALSE' 'TRUE' 'TRUE' 'FALSE'\n",
      " 'FALSE' 'TRUE' 'mammal' 'FALSE' 'TRUE' 'FALSE' 'FALSE' 'FALSE' 'TRUE'\n",
      " 'FALSE' 'FALSE' 'FALSE' 'FALSE' 'TRUE' '4' 'TRUE' 'TRUE' '4' 'FALSE'\n",
      " 'FALSE' 'FALSE' 'TRUE' 'FALSE' 'TRUE' 'FALSE' 'TRUE' 'TRUE' 'FALSE'\n",
      " 'TRUE' '2' 'mammal' 'FALSE' 'mammal' 'TRUE' 'FALSE' 'FALSE' 'TRUE'\n",
      " 'FALSE' 'TRUE' 'TRUE' 'FALSE' 'FALSE' 'FALSE' 'FALSE' 'fish' 'FALSE'\n",
      " 'TRUE' 'FALSE' 'mammal' 'FALSE' 'TRUE' 'FALSE' 'FALSE' 'mammal' 'TRUE'\n",
      " 'fish' 'TRUE' '0' 'TRUE' 'FALSE' 'FALSE' 'FALSE' 'mammal' 'FALSE' 'FALSE'\n",
      " 'FALSE' 'TRUE' 'TRUE' 'TRUE' 'FALSE' 'TRUE' 'TRUE' 'FALSE' 'fish' 'TRUE'\n",
      " 'FALSE' 'FALSE' 'FALSE' 'TRUE' 'FALSE' 'FALSE' 'FALSE' 'TRUE' 'TRUE'\n",
      " 'FALSE' 'TRUE' 'FALSE' 'TRUE' 'FALSE' 'FALSE' 'FALSE' 'TRUE' 'mammal'\n",
      " 'FALSE' 'FALSE' 'TRUE' 'TRUE' 'TRUE' 'FALSE' 'FALSE' '4' 'TRUE' 'FALSE'\n",
      " 'FALSE' 'FALSE' 'TRUE' 'FALSE' 'FALSE' 'TRUE' 'TRUE' 'TRUE' 'FALSE'\n",
      " 'FALSE' 'TRUE' 'TRUE' 'FALSE' '4' 'FALSE' 'TRUE' 'TRUE' 'TRUE' '4' 'TRUE'\n",
      " 'FALSE' 'TRUE' 'FALSE' 'FALSE' 'FALSE' 'FALSE' 'FALSE' 'TRUE' 'TRUE'\n",
      " 'FALSE' 'TRUE' 'FALSE' 'FALSE' 'FALSE' 'TRUE' 'TRUE' 'FALSE' 'TRUE'\n",
      " 'FALSE' 'TRUE' 'FALSE' 'TRUE' 'FALSE' 'FALSE' 'FALSE' 'FALSE' 'TRUE'\n",
      " 'fish' 'FALSE' 'TRUE' 'FALSE' 'TRUE' 'TRUE' 'FALSE' 'TRUE' 'FALSE' 'TRUE'\n",
      " 'TRUE' 'mammal' '4' 'TRUE' 'FALSE' 'TRUE' 'TRUE' 'TRUE' 'TRUE' 'FALSE'\n",
      " 'TRUE' 'FALSE' 'TRUE' 'TRUE' 'FALSE' 'TRUE' 'TRUE' 'FALSE' '4' 'FALSE'\n",
      " '4' 'FALSE' 'TRUE' 'FALSE' 'FALSE' 'FALSE' 'FALSE' 'FALSE' 'TRUE' 'TRUE'\n",
      " '4' 'FALSE' 'FALSE' 'TRUE' 'mammal' 'FALSE' 'mammal' '4' 'FALSE' 'TRUE'\n",
      " 'TRUE' 'TRUE' 'TRUE' 'TRUE' 'FALSE' 'TRUE' 'FALSE' 'TRUE' 'TRUE' 'TRUE'\n",
      " 'TRUE' 'TRUE' 'FALSE' '4' 'FALSE' 'TRUE' 'FALSE' 'FALSE' 'FALSE' 'TRUE'\n",
      " 'FALSE' '0' 'FALSE' 'TRUE' 'TRUE']\n"
     ]
    }
   ],
   "source": [
    "import numpy as np\n",
    "import copy\n",
    "\n",
    "# randomly all shuffle\n",
    "b_list_4 = copy.copy(b_list)\n",
    "data = []\n",
    "for i,value in enumerate(b_list_4):  \n",
    "    data.extend(b_list_4[i])\n",
    "data = np.array(data)\n",
    "np.random.shuffle(data)\n",
    "data.reshape(b_list.shape[0],b_list.shape[1])\n",
    "b_list_4 = data\n",
    "print(b_list_4)"
   ]
  },
  {
   "cell_type": "code",
   "execution_count": 92,
   "metadata": {
    "scrolled": true
   },
   "outputs": [
    {
     "name": "stdout",
     "output_type": "stream",
     "text": [
      "[['FALSE' 'FALSE' 'TRUE' 'FALSE' 'FALSE' 'TRUE' 'TRUE' 'FALSE' 'FALSE'\n",
      "  'FALSE' 'FALSE' 'FALSE' '4' 'FALSE' 'FALSE' 'FALSE' 'invertebrate']\n",
      " ['FALSE' 'FALSE' 'TRUE' 'FALSE' 'FALSE' 'TRUE' 'TRUE' 'TRUE' 'TRUE'\n",
      "  'FALSE' 'FALSE' 'TRUE' '0' 'TRUE' 'FALSE' 'FALSE' 'fish']\n",
      " ['TRUE' 'FALSE' 'FALSE' 'TRUE' 'FALSE' 'FALSE' 'TRUE' 'TRUE' 'TRUE'\n",
      "  'TRUE' 'FALSE' 'FALSE' '4' 'TRUE' 'FALSE' 'TRUE' 'mammal']\n",
      " ['TRUE' 'FALSE' 'FALSE' 'TRUE' 'FALSE' 'FALSE' 'FALSE' 'TRUE' 'TRUE'\n",
      "  'TRUE' 'FALSE' 'FALSE' '4' 'FALSE' 'TRUE' 'FALSE' 'mammal']\n",
      " ['TRUE' 'FALSE' 'FALSE' 'TRUE' 'FALSE' 'FALSE' 'FALSE' 'TRUE' 'TRUE'\n",
      "  'TRUE' 'FALSE' 'FALSE' '4' 'TRUE' 'FALSE' 'TRUE' 'mammal']\n",
      " ['FALSE' 'TRUE' 'TRUE' 'FALSE' 'TRUE' 'FALSE' 'TRUE' 'FALSE' 'TRUE'\n",
      "  'TRUE' 'FALSE' 'FALSE' '2' 'TRUE' 'FALSE' 'FALSE' 'bird']\n",
      " ['FALSE' 'FALSE' 'TRUE' 'FALSE' 'FALSE' 'FALSE' 'TRUE' 'FALSE' 'FALSE'\n",
      "  'FALSE' 'FALSE' 'FALSE' '0' 'FALSE' 'FALSE' 'FALSE' 'invertebrate']\n",
      " ['FALSE' 'FALSE' 'TRUE' 'FALSE' 'FALSE' 'TRUE' 'TRUE' 'TRUE' 'TRUE'\n",
      "  'FALSE' 'FALSE' 'TRUE' '0' 'TRUE' 'FALSE' 'TRUE' 'fish']\n",
      " ['FALSE' 'FALSE' 'FALSE' 'TRUE' 'FALSE' 'TRUE' 'TRUE' 'TRUE' 'TRUE'\n",
      "  'TRUE' 'FALSE' 'TRUE' '0' 'TRUE' 'FALSE' 'TRUE' 'mammal']\n",
      " ['TRUE' 'FALSE' 'FALSE' 'TRUE' 'FALSE' 'FALSE' 'FALSE' 'TRUE' 'TRUE'\n",
      "  'TRUE' 'FALSE' 'FALSE' '4' 'TRUE' 'TRUE' 'TRUE' 'mammal']\n",
      " ['TRUE' 'FALSE' 'FALSE' 'TRUE' 'FALSE' 'FALSE' 'TRUE' 'TRUE' 'TRUE'\n",
      "  'TRUE' 'FALSE' 'FALSE' '4' 'FALSE' 'FALSE' 'TRUE' 'mammal']\n",
      " ['TRUE' 'FALSE' 'FALSE' 'TRUE' 'FALSE' 'FALSE' 'TRUE' 'TRUE' 'TRUE'\n",
      "  'TRUE' 'FALSE' 'FALSE' '4' 'TRUE' 'FALSE' 'TRUE' 'mammal']\n",
      " ['FALSE' 'TRUE' 'TRUE' 'FALSE' 'TRUE' 'FALSE' 'FALSE' 'FALSE' 'TRUE'\n",
      "  'TRUE' 'FALSE' 'FALSE' '2' 'TRUE' 'TRUE' 'FALSE' 'bird']\n",
      " ['FALSE' 'FALSE' 'TRUE' 'FALSE' 'FALSE' 'TRUE' 'TRUE' 'TRUE' 'TRUE'\n",
      "  'FALSE' 'FALSE' 'TRUE' '0' 'TRUE' 'FALSE' 'FALSE' 'fish']\n",
      " ['FALSE' 'FALSE' 'TRUE' 'FALSE' 'FALSE' 'TRUE' 'TRUE' 'FALSE' 'FALSE'\n",
      "  'FALSE' 'FALSE' 'FALSE' '6' 'FALSE' 'FALSE' 'FALSE' 'invertebrate']\n",
      " ['TRUE' 'FALSE' 'FALSE' 'TRUE' 'FALSE' 'FALSE' 'FALSE' 'TRUE' 'TRUE'\n",
      "  'TRUE' 'FALSE' 'FALSE' '4' 'TRUE' 'FALSE' 'TRUE' 'mammal']\n",
      " ['TRUE' 'FALSE' 'FALSE' 'TRUE' 'FALSE' 'FALSE' 'TRUE' 'TRUE' 'TRUE'\n",
      "  'TRUE' 'FALSE' 'FALSE' '4' 'FALSE' 'FALSE' 'TRUE' 'mammal']\n",
      " ['FALSE' 'FALSE' 'TRUE' 'FALSE' 'FALSE' 'TRUE' 'FALSE' 'TRUE' 'TRUE'\n",
      "  'FALSE' 'FALSE' 'TRUE' '0' 'TRUE' 'TRUE' 'FALSE' 'fish']\n",
      " ['FALSE' 'FALSE' 'TRUE' 'FALSE' 'FALSE' 'TRUE' 'TRUE' 'TRUE' 'TRUE'\n",
      "  'FALSE' 'FALSE' 'TRUE' '0' 'TRUE' 'FALSE' 'FALSE' 'fish']\n",
      " ['TRUE' 'FALSE' 'FALSE' 'TRUE' 'FALSE' 'FALSE' 'FALSE' 'TRUE' 'TRUE'\n",
      "  'TRUE' 'FALSE' 'FALSE' '4' 'TRUE' 'FALSE' 'TRUE' 'mammal']]\n"
     ]
    }
   ],
   "source": [
    "#randomly lows shuffle\n",
    "np.random.shuffle(b_list)\n",
    "print(b_list)"
   ]
  },
  {
   "cell_type": "code",
   "execution_count": 120,
   "metadata": {},
   "outputs": [],
   "source": [
    "def divide_train_test(in_list,prop):\n",
    "    num=int(len(in_list)*prop) # number of train data\n",
    "    train_data = in_list[:num]\n",
    "    test_data = in_list[num:]\n",
    "    return train_data,test_data\n"
   ]
  },
  {
   "cell_type": "code",
   "execution_count": 123,
   "metadata": {},
   "outputs": [
    {
     "name": "stdout",
     "output_type": "stream",
     "text": [
      "(101, 17)\n",
      "(70, 17)\n",
      "(31, 17)\n"
     ]
    }
   ],
   "source": [
    "train_data,test_data = divide_train_test(a_list,0.7)\n",
    "print(a_list.shape)\n",
    "print(train_data.shape)\n",
    "print(test_data.shape)"
   ]
  },
  {
   "cell_type": "code",
   "execution_count": 124,
   "metadata": {},
   "outputs": [
    {
     "name": "stdout",
     "output_type": "stream",
     "text": [
      "(101, 17)\n",
      "(90, 17)\n",
      "(11, 17)\n"
     ]
    }
   ],
   "source": [
    "train_data,test_data = divide_train_test(a_list,0.9)\n",
    "print(a_list.shape)\n",
    "print(train_data.shape)\n",
    "print(test_data.shape)"
   ]
  },
  {
   "cell_type": "markdown",
   "metadata": {},
   "source": [
    "# 6"
   ]
  },
  {
   "cell_type": "code",
   "execution_count": 125,
   "metadata": {},
   "outputs": [
    {
     "data": {
      "text/plain": [
       "[4.666666666666667, 1, 9]"
      ]
     },
     "execution_count": 125,
     "metadata": {},
     "output_type": "execute_result"
    }
   ],
   "source": [
    "a = [1,3,4,5,6,9]\n",
    "def min_max_mean(in_list):\n",
    "    data = []\n",
    "    maximum = max(in_list)\n",
    "    minimum = min(in_list)\n",
    "    average = sum(in_list)/len(in_list)\n",
    "    data.append(average)\n",
    "    data.append(minimum)\n",
    "    data.append(maximum)\n",
    "    return data\n",
    "min_max_mean(a)"
   ]
  },
  {
   "cell_type": "code",
   "execution_count": 129,
   "metadata": {},
   "outputs": [
    {
     "data": {
      "text/plain": [
       "[57.2, 7, 96]"
      ]
     },
     "execution_count": 129,
     "metadata": {},
     "output_type": "execute_result"
    }
   ],
   "source": [
    "import random\n",
    "data = []\n",
    "for i in range(15):\n",
    "    data.append(random.randint(1,101))\n",
    "min_max_mean(data)"
   ]
  },
  {
   "cell_type": "code",
   "execution_count": 131,
   "metadata": {},
   "outputs": [
    {
     "data": {
      "text/plain": [
       "[[-4, 0], [0, 4], [4, 8]]"
      ]
     },
     "execution_count": 131,
     "metadata": {},
     "output_type": "execute_result"
    }
   ],
   "source": [
    "def my_discretize(in_list,interval):\n",
    "    min_num=in_list[0]\n",
    "    max_num=in_list[1]\n",
    "    term = int((max_num-min_num)/interval)\n",
    "    data = []\n",
    "    for i in range(interval):\n",
    "        data.append([min_num,min_num+term])\n",
    "        min_num=min_num+term\n",
    "    return data\n",
    "my_discretize([-4,8],3)"
   ]
  },
  {
   "cell_type": "code",
   "execution_count": 192,
   "metadata": {
    "scrolled": true
   },
   "outputs": [
    {
     "name": "stdout",
     "output_type": "stream",
     "text": [
      "[[-100, -80], [-80, -60], [-60, -40], [-40, -20], [-20, 0], [0, 20], [20, 40], [40, 60], [60, 80], [80, 100]]\n",
      "[[-24, -8], [-8, 8], [8, 24]]\n",
      "[[-24, -16], [-16, -8], [-8, 0], [0, 8], [8, 16], [16, 24]]\n",
      "[[-80, -60], [-60, -40], [-40, -20], [-20, 0], [0, 20], [20, 40], [40, 60], [60, 80]]\n"
     ]
    }
   ],
   "source": [
    "print(my_discretize([-100,100],10))\n",
    "print(my_discretize([-24,24],3))\n",
    "print(my_discretize([-24,24],6))\n",
    "print(my_discretize([-80,80],8))"
   ]
  },
  {
   "cell_type": "markdown",
   "metadata": {},
   "source": [
    "# 7"
   ]
  },
  {
   "cell_type": "code",
   "execution_count": 149,
   "metadata": {
    "scrolled": false
   },
   "outputs": [
    {
     "data": {
      "text/plain": [
       "{'FALSE', 'TRUE'}"
      ]
     },
     "execution_count": 149,
     "metadata": {},
     "output_type": "execute_result"
    }
   ],
   "source": [
    "import copy\n",
    "a_list_att = copy.copy(a_list[:,2])\n",
    "set(a_list_att)"
   ]
  },
  {
   "cell_type": "code",
   "execution_count": 153,
   "metadata": {},
   "outputs": [
    {
     "name": "stdout",
     "output_type": "stream",
     "text": [
      "7\n",
      "7\n"
     ]
    }
   ],
   "source": [
    "def no_of_dval(a_list,num):\n",
    "    a_list_att=a_list[:,num]\n",
    "    data =[]\n",
    "    for i in a_list_att:\n",
    "        if i in data:\n",
    "            pass\n",
    "        else:\n",
    "            data.append(i)\n",
    "    return len(data)\n",
    "print(no_of_dval(a_list,16))\n",
    "# another method\n",
    "def no_of_dval2(a_list,num):\n",
    "    a_list_att=set(a_list[:,num])\n",
    "    return len(a_list_att)\n",
    "print(no_of_dval2(a_list,16))"
   ]
  },
  {
   "cell_type": "code",
   "execution_count": 193,
   "metadata": {
    "scrolled": true
   },
   "outputs": [
    {
     "name": "stdout",
     "output_type": "stream",
     "text": [
      "[2, 2, 2, 2, 2, 2, 2, 2, 2, 2, 2, 2, 6, 2, 2, 2, 7]\n"
     ]
    }
   ],
   "source": [
    "num_of_att= []\n",
    "for i in range(a_list.shape[1]):\n",
    "    num_of_att.append(no_of_dval(a_list,i))\n",
    "print(num_of_att)"
   ]
  },
  {
   "cell_type": "code",
   "execution_count": 185,
   "metadata": {},
   "outputs": [
    {
     "data": {
      "image/png": "[encoded data removed]",
      "text/plain": [
       "<Figure size 432x288 with 1 Axes>"
      ]
     },
     "metadata": {},
     "output_type": "display_data"
    }
   ],
   "source": [
    "import matplotlib.pyplot as plt\n",
    "%matplotlib inline\n",
    "plt.xticks(np.arange(0,a_list.shape[1] , 1))\n",
    "plt.bar(range(a_list.shape[1]), num_of_att[:])\n",
    "plt.show()"
   ]
  }
 ],
 "metadata": {
  "kernelspec": {
   "display_name": "Python 3",
   "language": "python",
   "name": "python3"
  },
  "language_info": {
   "codemirror_mode": {
    "name": "ipython",
    "version": 3
   },
   "file_extension": ".py",
   "mimetype": "text/x-python",
   "name": "python",
   "nbconvert_exporter": "python",
   "pygments_lexer": "ipython3",
   "version": "3.6.5"
  }
 },
 "nbformat": 4,
 "nbformat_minor": 2
}
