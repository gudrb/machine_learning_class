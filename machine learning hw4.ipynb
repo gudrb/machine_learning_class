{
 "cells": [
  {
   "cell_type": "markdown",
   "metadata": {},
   "source": [
    "0"
   ]
  },
  {
   "cell_type": "code",
   "execution_count": null,
   "metadata": {},
   "outputs": [],
   "source": [
    "import csv\n",
    "from sklearn import preprocessing\n",
    "with open(\"zoo.csv\") as f:\n",
    "    zoo = csv.reader(f)\n",
    "    zoo = list(zoo)\n",
    "zoo[0][0] = 'TRUE'"
   ]
  },
  {
   "cell_type": "code",
   "execution_count": null,
   "metadata": {},
   "outputs": [],
   "source": [
    "1"
   ]
  },
  {
   "cell_type": "code",
   "execution_count": 1,
   "metadata": {},
   "outputs": [
    {
     "name": "stdout",
     "output_type": "stream",
     "text": [
      "['0' '2' '4' '5' '6' '8' 'FALSE' 'TRUE' 'amphibian' 'bird' 'fish' 'insect'\n",
      " 'invertebrate' 'mammal' 'reptile']\n"
     ]
    }
   ],
   "source": [
    "def uniq_values(list1):\n",
    "    unique = []\n",
    "    for i in list1:\n",
    "        unique.extend(list(set(i)))\n",
    "    unique=list(set(unique))\n",
    "    le = preprocessing.LabelEncoder()\n",
    "    le.fit(unique)\n",
    "    print(le.classes_)\n",
    "    return list(le.classes_)\n",
    "unique = uniq_values(zoo)"
   ]
  },
  {
   "cell_type": "code",
   "execution_count": 2,
   "metadata": {
    "scrolled": true
   },
   "outputs": [
    {
     "data": {
      "text/plain": [
       "[[7, 6, 6, 7, 6, 6, 7, 7, 7, 7, 6, 6, 2, 6, 6, 7, 13],\n",
       " [7, 6, 6, 7, 6, 6, 6, 7, 7, 7, 6, 6, 2, 7, 6, 7, 13],\n",
       " [6, 6, 7, 6, 6, 7, 7, 7, 7, 6, 6, 7, 0, 7, 6, 6, 10],\n",
       " [7, 6, 6, 7, 6, 6, 7, 7, 7, 7, 6, 6, 2, 6, 6, 7, 13],\n",
       " [7, 6, 6, 7, 6, 6, 7, 7, 7, 7, 6, 6, 2, 7, 6, 7, 13],\n",
       " [7, 6, 6, 7, 6, 6, 6, 7, 7, 7, 6, 6, 2, 7, 6, 7, 13],\n",
       " [7, 6, 6, 7, 6, 6, 6, 7, 7, 7, 6, 6, 2, 7, 7, 7, 13],\n",
       " [6, 6, 7, 6, 6, 7, 6, 7, 7, 6, 6, 7, 0, 7, 7, 6, 10],\n",
       " [6, 6, 7, 6, 6, 7, 7, 7, 7, 6, 6, 7, 0, 7, 6, 6, 10],\n",
       " [7, 6, 6, 7, 6, 6, 6, 7, 7, 7, 6, 6, 2, 6, 7, 6, 13],\n",
       " [7, 6, 6, 7, 6, 6, 7, 7, 7, 7, 6, 6, 2, 7, 6, 7, 13],\n",
       " [6, 7, 7, 6, 7, 6, 6, 6, 7, 7, 6, 6, 1, 7, 7, 6, 9],\n",
       " [6, 6, 7, 6, 6, 7, 7, 7, 7, 6, 6, 7, 0, 7, 6, 6, 10],\n",
       " [6, 6, 7, 6, 6, 6, 7, 6, 6, 6, 6, 6, 0, 6, 6, 6, 12],\n",
       " [6, 6, 7, 6, 6, 7, 7, 6, 6, 6, 6, 6, 2, 6, 6, 6, 12],\n",
       " [6, 6, 7, 6, 6, 7, 7, 6, 6, 6, 6, 6, 4, 6, 6, 6, 12],\n",
       " [6, 7, 7, 6, 7, 6, 7, 6, 7, 7, 6, 6, 1, 7, 6, 6, 9],\n",
       " [7, 6, 6, 7, 6, 6, 6, 7, 7, 7, 6, 6, 2, 7, 6, 7, 13],\n",
       " [6, 6, 7, 6, 6, 7, 7, 7, 7, 6, 6, 7, 0, 7, 6, 7, 10],\n",
       " [6, 6, 6, 7, 6, 7, 7, 7, 7, 7, 6, 7, 0, 7, 6, 7, 13],\n",
       " [6, 7, 7, 6, 7, 6, 6, 6, 7, 7, 6, 6, 1, 7, 7, 6, 9],\n",
       " [6, 7, 7, 6, 7, 7, 6, 6, 7, 7, 6, 6, 1, 7, 6, 6, 9],\n",
       " [7, 6, 6, 7, 6, 6, 6, 7, 7, 7, 6, 6, 2, 7, 6, 7, 13],\n",
       " [6, 7, 7, 6, 7, 6, 6, 6, 7, 7, 6, 6, 1, 7, 6, 7, 9],\n",
       " [6, 6, 7, 6, 6, 6, 6, 6, 6, 7, 6, 6, 4, 6, 6, 6, 11],\n",
       " [6, 6, 7, 6, 6, 7, 7, 7, 7, 7, 6, 6, 2, 6, 6, 6, 8],\n",
       " [6, 6, 7, 6, 6, 7, 7, 7, 7, 7, 7, 6, 2, 6, 6, 6, 8],\n",
       " [7, 6, 6, 7, 7, 6, 6, 7, 7, 7, 6, 6, 1, 7, 6, 6, 13],\n",
       " [7, 6, 6, 7, 6, 6, 6, 7, 7, 7, 6, 6, 2, 7, 6, 7, 13],\n",
       " [7, 6, 6, 7, 6, 6, 7, 7, 7, 7, 6, 6, 1, 6, 7, 7, 13],\n",
       " [6, 6, 7, 6, 7, 6, 6, 6, 6, 7, 6, 6, 4, 6, 6, 6, 11],\n",
       " [7, 6, 6, 7, 6, 6, 6, 7, 7, 7, 6, 6, 2, 7, 7, 7, 13],\n",
       " [7, 6, 6, 7, 6, 6, 6, 7, 7, 7, 6, 6, 1, 6, 6, 7, 13],\n",
       " [6, 7, 7, 6, 7, 7, 7, 6, 7, 7, 6, 6, 1, 7, 6, 6, 9],\n",
       " [6, 6, 7, 6, 6, 7, 6, 7, 7, 6, 6, 7, 0, 7, 6, 6, 10],\n",
       " [7, 6, 6, 7, 6, 6, 6, 7, 7, 7, 6, 6, 2, 7, 7, 6, 13],\n",
       " [7, 6, 6, 7, 6, 6, 6, 7, 7, 7, 6, 6, 2, 7, 6, 6, 13],\n",
       " [6, 7, 7, 6, 7, 6, 7, 6, 7, 7, 6, 6, 1, 7, 6, 6, 9],\n",
       " [6, 6, 7, 6, 6, 7, 7, 7, 7, 6, 6, 7, 0, 7, 6, 6, 10],\n",
       " [7, 6, 7, 6, 7, 6, 6, 6, 6, 7, 7, 6, 4, 6, 7, 6, 11],\n",
       " [7, 6, 7, 6, 7, 6, 6, 6, 6, 7, 6, 6, 4, 6, 6, 6, 11],\n",
       " [6, 7, 7, 6, 6, 6, 7, 6, 7, 7, 6, 6, 1, 7, 6, 6, 9],\n",
       " [6, 6, 7, 6, 7, 6, 7, 6, 6, 7, 6, 6, 4, 6, 6, 6, 11],\n",
       " [6, 7, 7, 6, 7, 6, 6, 6, 7, 7, 6, 6, 1, 7, 6, 6, 9],\n",
       " [7, 6, 6, 7, 6, 6, 7, 7, 7, 7, 6, 6, 2, 7, 6, 7, 13],\n",
       " [7, 6, 6, 7, 6, 6, 7, 7, 7, 7, 6, 6, 2, 7, 6, 7, 13],\n",
       " [6, 6, 7, 6, 6, 7, 7, 6, 6, 6, 6, 6, 4, 6, 6, 6, 12],\n",
       " [7, 6, 6, 7, 6, 6, 7, 7, 7, 7, 6, 6, 2, 7, 6, 7, 13],\n",
       " [7, 6, 6, 7, 6, 7, 7, 7, 7, 7, 6, 6, 2, 7, 6, 7, 13],\n",
       " [7, 6, 6, 7, 6, 6, 7, 7, 7, 7, 6, 6, 2, 7, 6, 6, 13],\n",
       " [7, 6, 6, 7, 6, 6, 7, 7, 7, 7, 6, 6, 2, 7, 6, 7, 13],\n",
       " [7, 6, 7, 6, 7, 6, 6, 6, 6, 7, 6, 6, 4, 6, 6, 6, 11],\n",
       " [6, 6, 7, 6, 6, 7, 7, 7, 7, 7, 6, 6, 2, 7, 6, 6, 8],\n",
       " [6, 6, 7, 6, 6, 7, 7, 6, 6, 6, 6, 6, 5, 6, 6, 7, 12],\n",
       " [7, 6, 6, 7, 6, 6, 7, 7, 7, 7, 6, 6, 2, 7, 6, 6, 13],\n",
       " [7, 6, 6, 7, 6, 6, 6, 7, 7, 7, 6, 6, 2, 7, 6, 7, 13],\n",
       " [6, 7, 7, 6, 6, 6, 6, 6, 7, 7, 6, 6, 1, 7, 6, 7, 9],\n",
       " [6, 7, 7, 6, 7, 6, 6, 6, 7, 7, 6, 6, 1, 7, 7, 6, 9],\n",
       " [6, 7, 7, 6, 6, 7, 7, 6, 7, 7, 6, 6, 1, 7, 6, 7, 9],\n",
       " [6, 7, 7, 6, 7, 6, 6, 6, 7, 7, 6, 6, 1, 7, 6, 6, 9],\n",
       " [6, 6, 7, 6, 6, 7, 7, 7, 7, 6, 6, 7, 0, 7, 6, 7, 10],\n",
       " [6, 6, 7, 6, 6, 7, 7, 7, 7, 6, 6, 7, 0, 7, 6, 6, 10],\n",
       " [6, 6, 7, 6, 6, 6, 7, 7, 7, 7, 7, 6, 0, 7, 6, 6, 14],\n",
       " [7, 6, 7, 7, 6, 7, 7, 6, 7, 7, 6, 6, 2, 7, 6, 7, 13],\n",
       " [7, 6, 6, 7, 6, 6, 7, 7, 7, 7, 6, 6, 2, 7, 6, 7, 13],\n",
       " [7, 6, 6, 7, 6, 6, 6, 7, 7, 7, 6, 6, 2, 7, 7, 7, 13],\n",
       " [6, 6, 6, 7, 6, 7, 7, 7, 7, 7, 6, 7, 0, 7, 6, 7, 13],\n",
       " [7, 6, 6, 7, 6, 6, 7, 7, 7, 7, 6, 6, 2, 7, 6, 7, 13],\n",
       " [7, 6, 6, 7, 6, 6, 7, 7, 7, 7, 6, 6, 2, 7, 7, 7, 13],\n",
       " [7, 6, 6, 7, 6, 6, 7, 7, 7, 7, 6, 6, 2, 7, 6, 7, 13],\n",
       " [7, 6, 6, 7, 6, 6, 6, 7, 7, 7, 6, 6, 2, 7, 7, 7, 13],\n",
       " [6, 7, 7, 6, 6, 6, 7, 6, 7, 7, 6, 6, 1, 7, 6, 7, 9],\n",
       " [6, 6, 6, 6, 6, 6, 7, 6, 6, 7, 7, 6, 5, 7, 6, 6, 12],\n",
       " [6, 6, 7, 6, 6, 7, 6, 7, 7, 6, 6, 7, 0, 7, 6, 6, 10],\n",
       " [7, 6, 6, 7, 6, 7, 7, 7, 7, 7, 6, 7, 0, 6, 6, 7, 13],\n",
       " [7, 6, 6, 7, 6, 7, 7, 7, 7, 7, 6, 7, 1, 7, 6, 7, 13],\n",
       " [6, 6, 6, 6, 6, 7, 7, 7, 7, 6, 7, 6, 0, 7, 6, 6, 14],\n",
       " [6, 6, 7, 6, 6, 7, 7, 6, 6, 6, 7, 6, 0, 6, 6, 6, 12],\n",
       " [6, 7, 7, 6, 7, 7, 7, 6, 7, 7, 6, 6, 1, 7, 6, 6, 9],\n",
       " [6, 7, 7, 6, 7, 7, 7, 6, 7, 7, 6, 6, 1, 7, 6, 6, 9],\n",
       " [6, 6, 7, 6, 6, 6, 7, 7, 7, 7, 6, 6, 0, 7, 6, 6, 14],\n",
       " [6, 6, 7, 6, 6, 6, 6, 6, 6, 7, 6, 6, 0, 6, 6, 6, 12],\n",
       " [6, 6, 7, 6, 6, 7, 6, 7, 7, 6, 6, 7, 0, 7, 6, 6, 10],\n",
       " [6, 7, 7, 6, 7, 6, 6, 6, 7, 7, 6, 6, 1, 7, 6, 6, 9],\n",
       " [7, 6, 6, 7, 6, 6, 6, 7, 7, 7, 6, 6, 1, 7, 6, 6, 13],\n",
       " [6, 6, 7, 6, 6, 7, 7, 6, 6, 6, 6, 6, 3, 6, 6, 6, 12],\n",
       " [6, 6, 7, 6, 6, 7, 7, 7, 7, 6, 7, 7, 0, 7, 6, 7, 10],\n",
       " [6, 7, 7, 6, 7, 7, 6, 6, 7, 7, 6, 6, 1, 7, 6, 7, 9],\n",
       " [6, 6, 7, 6, 6, 6, 6, 6, 6, 7, 6, 6, 4, 6, 6, 6, 11],\n",
       " [6, 6, 7, 6, 6, 7, 6, 7, 7, 7, 6, 6, 2, 6, 6, 6, 8],\n",
       " [6, 6, 7, 6, 6, 6, 6, 6, 7, 7, 6, 6, 2, 7, 6, 7, 14],\n",
       " [6, 6, 7, 6, 6, 6, 7, 7, 7, 7, 6, 6, 2, 7, 6, 6, 14],\n",
       " [6, 6, 7, 6, 6, 7, 7, 7, 7, 6, 6, 7, 0, 7, 6, 7, 10],\n",
       " [7, 6, 6, 7, 7, 6, 6, 7, 7, 7, 6, 6, 1, 7, 6, 6, 13],\n",
       " [7, 6, 6, 7, 6, 6, 6, 7, 7, 7, 6, 6, 2, 7, 6, 6, 13],\n",
       " [6, 7, 7, 6, 7, 6, 7, 6, 7, 7, 6, 6, 1, 7, 6, 7, 9],\n",
       " [7, 6, 6, 7, 6, 6, 6, 7, 7, 7, 6, 6, 1, 7, 6, 7, 13],\n",
       " [7, 6, 7, 6, 7, 6, 6, 6, 6, 7, 7, 6, 4, 6, 6, 6, 11],\n",
       " [7, 6, 6, 7, 6, 6, 7, 7, 7, 7, 6, 6, 2, 7, 6, 7, 13],\n",
       " [6, 6, 7, 6, 6, 6, 6, 6, 6, 7, 6, 6, 0, 6, 6, 6, 12],\n",
       " [6, 7, 7, 6, 7, 6, 6, 6, 7, 7, 6, 6, 1, 7, 6, 6, 9]]"
      ]
     },
     "execution_count": 2,
     "metadata": {},
     "output_type": "execute_result"
    }
   ],
   "source": [
    "zoo_list = []\n",
    "le = preprocessing.LabelEncoder()\n",
    "le.fit(unique)\n",
    "for i in range(len(zoo)):\n",
    "    zoo_list.append(list(le.transform(zoo[i])))\n",
    "zoo_list"
   ]
  },
  {
   "cell_type": "code",
   "execution_count": 4,
   "metadata": {
    "scrolled": true
   },
   "outputs": [
    {
     "name": "stdout",
     "output_type": "stream",
     "text": [
      "[1.  0.  0.  1.  0.  0.  1.  1.  1.  1.  0.  0.  0.4 0.  0.  1. ]\n",
      "[1.  0.  0.  1.  0.  0.  0.  1.  1.  1.  0.  0.  0.4 1.  0.  1. ]\n",
      "[0. 0. 1. 0. 0. 1. 1. 1. 1. 0. 0. 1. 0. 1. 0. 0.]\n",
      "[1.  0.  0.  1.  0.  0.  1.  1.  1.  1.  0.  0.  0.4 0.  0.  1. ]\n",
      "[1.  0.  0.  1.  0.  0.  1.  1.  1.  1.  0.  0.  0.4 1.  0.  1. ]\n",
      "[1.  0.  0.  1.  0.  0.  0.  1.  1.  1.  0.  0.  0.4 1.  0.  1. ]\n",
      "[1.  0.  0.  1.  0.  0.  0.  1.  1.  1.  0.  0.  0.4 1.  1.  1. ]\n",
      "[0. 0. 1. 0. 0. 1. 0. 1. 1. 0. 0. 1. 0. 1. 1. 0.]\n",
      "[0. 0. 1. 0. 0. 1. 1. 1. 1. 0. 0. 1. 0. 1. 0. 0.]\n",
      "[1.  0.  0.  1.  0.  0.  0.  1.  1.  1.  0.  0.  0.4 0.  1.  0. ]\n",
      "[1.  0.  0.  1.  0.  0.  1.  1.  1.  1.  0.  0.  0.4 1.  0.  1. ]\n",
      "[0.  1.  1.  0.  1.  0.  0.  0.  1.  1.  0.  0.  0.2 1.  1.  0. ]\n",
      "[0. 0. 1. 0. 0. 1. 1. 1. 1. 0. 0. 1. 0. 1. 0. 0.]\n",
      "[0. 0. 1. 0. 0. 0. 1. 0. 0. 0. 0. 0. 0. 0. 0. 0.]\n",
      "[0.  0.  1.  0.  0.  1.  1.  0.  0.  0.  0.  0.  0.4 0.  0.  0. ]\n",
      "[0.  0.  1.  0.  0.  1.  1.  0.  0.  0.  0.  0.  0.8 0.  0.  0. ]\n",
      "[0.  1.  1.  0.  1.  0.  1.  0.  1.  1.  0.  0.  0.2 1.  0.  0. ]\n",
      "[1.  0.  0.  1.  0.  0.  0.  1.  1.  1.  0.  0.  0.4 1.  0.  1. ]\n",
      "[0. 0. 1. 0. 0. 1. 1. 1. 1. 0. 0. 1. 0. 1. 0. 1.]\n",
      "[0. 0. 0. 1. 0. 1. 1. 1. 1. 1. 0. 1. 0. 1. 0. 1.]\n",
      "[0.  1.  1.  0.  1.  0.  0.  0.  1.  1.  0.  0.  0.2 1.  1.  0. ]\n",
      "[0.  1.  1.  0.  1.  1.  0.  0.  1.  1.  0.  0.  0.2 1.  0.  0. ]\n",
      "[1.  0.  0.  1.  0.  0.  0.  1.  1.  1.  0.  0.  0.4 1.  0.  1. ]\n",
      "[0.  1.  1.  0.  1.  0.  0.  0.  1.  1.  0.  0.  0.2 1.  0.  1. ]\n",
      "[0.  0.  1.  0.  0.  0.  0.  0.  0.  1.  0.  0.  0.8 0.  0.  0. ]\n",
      "[0.  0.  1.  0.  0.  1.  1.  1.  1.  1.  0.  0.  0.4 0.  0.  0. ]\n",
      "[0.  0.  1.  0.  0.  1.  1.  1.  1.  1.  1.  0.  0.4 0.  0.  0. ]\n",
      "[1.  0.  0.  1.  1.  0.  0.  1.  1.  1.  0.  0.  0.2 1.  0.  0. ]\n",
      "[1.  0.  0.  1.  0.  0.  0.  1.  1.  1.  0.  0.  0.4 1.  0.  1. ]\n",
      "[1.  0.  0.  1.  0.  0.  1.  1.  1.  1.  0.  0.  0.2 0.  1.  1. ]\n",
      "[0.  0.  1.  0.  1.  0.  0.  0.  0.  1.  0.  0.  0.8 0.  0.  0. ]\n",
      "[1.  0.  0.  1.  0.  0.  0.  1.  1.  1.  0.  0.  0.4 1.  1.  1. ]\n",
      "[1.  0.  0.  1.  0.  0.  0.  1.  1.  1.  0.  0.  0.2 0.  0.  1. ]\n",
      "[0.  1.  1.  0.  1.  1.  1.  0.  1.  1.  0.  0.  0.2 1.  0.  0. ]\n",
      "[0. 0. 1. 0. 0. 1. 0. 1. 1. 0. 0. 1. 0. 1. 0. 0.]\n",
      "[1.  0.  0.  1.  0.  0.  0.  1.  1.  1.  0.  0.  0.4 1.  1.  0. ]\n",
      "[1.  0.  0.  1.  0.  0.  0.  1.  1.  1.  0.  0.  0.4 1.  0.  0. ]\n",
      "[0.  1.  1.  0.  1.  0.  1.  0.  1.  1.  0.  0.  0.2 1.  0.  0. ]\n",
      "[0. 0. 1. 0. 0. 1. 1. 1. 1. 0. 0. 1. 0. 1. 0. 0.]\n",
      "[1.  0.  1.  0.  1.  0.  0.  0.  0.  1.  1.  0.  0.8 0.  1.  0. ]\n",
      "[1.  0.  1.  0.  1.  0.  0.  0.  0.  1.  0.  0.  0.8 0.  0.  0. ]\n",
      "[0.  1.  1.  0.  0.  0.  1.  0.  1.  1.  0.  0.  0.2 1.  0.  0. ]\n",
      "[0.  0.  1.  0.  1.  0.  1.  0.  0.  1.  0.  0.  0.8 0.  0.  0. ]\n",
      "[0.  1.  1.  0.  1.  0.  0.  0.  1.  1.  0.  0.  0.2 1.  0.  0. ]\n",
      "[1.  0.  0.  1.  0.  0.  1.  1.  1.  1.  0.  0.  0.4 1.  0.  1. ]\n",
      "[1.  0.  0.  1.  0.  0.  1.  1.  1.  1.  0.  0.  0.4 1.  0.  1. ]\n",
      "[0.  0.  1.  0.  0.  1.  1.  0.  0.  0.  0.  0.  0.8 0.  0.  0. ]\n",
      "[1.  0.  0.  1.  0.  0.  1.  1.  1.  1.  0.  0.  0.4 1.  0.  1. ]\n",
      "[1.  0.  0.  1.  0.  1.  1.  1.  1.  1.  0.  0.  0.4 1.  0.  1. ]\n",
      "[1.  0.  0.  1.  0.  0.  1.  1.  1.  1.  0.  0.  0.4 1.  0.  0. ]\n",
      "[1.  0.  0.  1.  0.  0.  1.  1.  1.  1.  0.  0.  0.4 1.  0.  1. ]\n",
      "[1.  0.  1.  0.  1.  0.  0.  0.  0.  1.  0.  0.  0.8 0.  0.  0. ]\n",
      "[0.  0.  1.  0.  0.  1.  1.  1.  1.  1.  0.  0.  0.4 1.  0.  0. ]\n",
      "[0. 0. 1. 0. 0. 1. 1. 0. 0. 0. 0. 0. 1. 0. 0. 1.]\n",
      "[1.  0.  0.  1.  0.  0.  1.  1.  1.  1.  0.  0.  0.4 1.  0.  0. ]\n",
      "[1.  0.  0.  1.  0.  0.  0.  1.  1.  1.  0.  0.  0.4 1.  0.  1. ]\n",
      "[0.  1.  1.  0.  0.  0.  0.  0.  1.  1.  0.  0.  0.2 1.  0.  1. ]\n",
      "[0.  1.  1.  0.  1.  0.  0.  0.  1.  1.  0.  0.  0.2 1.  1.  0. ]\n",
      "[0.  1.  1.  0.  0.  1.  1.  0.  1.  1.  0.  0.  0.2 1.  0.  1. ]\n",
      "[0.  1.  1.  0.  1.  0.  0.  0.  1.  1.  0.  0.  0.2 1.  0.  0. ]\n",
      "[0. 0. 1. 0. 0. 1. 1. 1. 1. 0. 0. 1. 0. 1. 0. 1.]\n",
      "[0. 0. 1. 0. 0. 1. 1. 1. 1. 0. 0. 1. 0. 1. 0. 0.]\n",
      "[0. 0. 1. 0. 0. 0. 1. 1. 1. 1. 1. 0. 0. 1. 0. 0.]\n",
      "[1.  0.  1.  1.  0.  1.  1.  0.  1.  1.  0.  0.  0.4 1.  0.  1. ]\n",
      "[1.  0.  0.  1.  0.  0.  1.  1.  1.  1.  0.  0.  0.4 1.  0.  1. ]\n",
      "[1.  0.  0.  1.  0.  0.  0.  1.  1.  1.  0.  0.  0.4 1.  1.  1. ]\n",
      "[0. 0. 0. 1. 0. 1. 1. 1. 1. 1. 0. 1. 0. 1. 0. 1.]\n",
      "[1.  0.  0.  1.  0.  0.  1.  1.  1.  1.  0.  0.  0.4 1.  0.  1. ]\n",
      "[1.  0.  0.  1.  0.  0.  1.  1.  1.  1.  0.  0.  0.4 1.  1.  1. ]\n",
      "[1.  0.  0.  1.  0.  0.  1.  1.  1.  1.  0.  0.  0.4 1.  0.  1. ]\n",
      "[1.  0.  0.  1.  0.  0.  0.  1.  1.  1.  0.  0.  0.4 1.  1.  1. ]\n",
      "[0.  1.  1.  0.  0.  0.  1.  0.  1.  1.  0.  0.  0.2 1.  0.  1. ]\n",
      "[0. 0. 0. 0. 0. 0. 1. 0. 0. 1. 1. 0. 1. 1. 0. 0.]\n",
      "[0. 0. 1. 0. 0. 1. 0. 1. 1. 0. 0. 1. 0. 1. 0. 0.]\n",
      "[1. 0. 0. 1. 0. 1. 1. 1. 1. 1. 0. 1. 0. 0. 0. 1.]\n",
      "[1.  0.  0.  1.  0.  1.  1.  1.  1.  1.  0.  1.  0.2 1.  0.  1. ]\n",
      "[0. 0. 0. 0. 0. 1. 1. 1. 1. 0. 1. 0. 0. 1. 0. 0.]\n",
      "[0. 0. 1. 0. 0. 1. 1. 0. 0. 0. 1. 0. 0. 0. 0. 0.]\n",
      "[0.  1.  1.  0.  1.  1.  1.  0.  1.  1.  0.  0.  0.2 1.  0.  0. ]\n",
      "[0.  1.  1.  0.  1.  1.  1.  0.  1.  1.  0.  0.  0.2 1.  0.  0. ]\n",
      "[0. 0. 1. 0. 0. 0. 1. 1. 1. 1. 0. 0. 0. 1. 0. 0.]\n",
      "[0. 0. 1. 0. 0. 0. 0. 0. 0. 1. 0. 0. 0. 0. 0. 0.]\n",
      "[0. 0. 1. 0. 0. 1. 0. 1. 1. 0. 0. 1. 0. 1. 0. 0.]\n",
      "[0.  1.  1.  0.  1.  0.  0.  0.  1.  1.  0.  0.  0.2 1.  0.  0. ]\n",
      "[1.  0.  0.  1.  0.  0.  0.  1.  1.  1.  0.  0.  0.2 1.  0.  0. ]\n",
      "[0.  0.  1.  0.  0.  1.  1.  0.  0.  0.  0.  0.  0.6 0.  0.  0. ]\n",
      "[0. 0. 1. 0. 0. 1. 1. 1. 1. 0. 1. 1. 0. 1. 0. 1.]\n",
      "[0.  1.  1.  0.  1.  1.  0.  0.  1.  1.  0.  0.  0.2 1.  0.  1. ]\n",
      "[0.  0.  1.  0.  0.  0.  0.  0.  0.  1.  0.  0.  0.8 0.  0.  0. ]\n",
      "[0.  0.  1.  0.  0.  1.  0.  1.  1.  1.  0.  0.  0.4 0.  0.  0. ]\n",
      "[0.  0.  1.  0.  0.  0.  0.  0.  1.  1.  0.  0.  0.4 1.  0.  1. ]\n",
      "[0.  0.  1.  0.  0.  0.  1.  1.  1.  1.  0.  0.  0.4 1.  0.  0. ]\n",
      "[0. 0. 1. 0. 0. 1. 1. 1. 1. 0. 0. 1. 0. 1. 0. 1.]\n",
      "[1.  0.  0.  1.  1.  0.  0.  1.  1.  1.  0.  0.  0.2 1.  0.  0. ]\n",
      "[1.  0.  0.  1.  0.  0.  0.  1.  1.  1.  0.  0.  0.4 1.  0.  0. ]\n",
      "[0.  1.  1.  0.  1.  0.  1.  0.  1.  1.  0.  0.  0.2 1.  0.  1. ]\n",
      "[1.  0.  0.  1.  0.  0.  0.  1.  1.  1.  0.  0.  0.2 1.  0.  1. ]\n",
      "[1.  0.  1.  0.  1.  0.  0.  0.  0.  1.  1.  0.  0.8 0.  0.  0. ]\n",
      "[1.  0.  0.  1.  0.  0.  1.  1.  1.  1.  0.  0.  0.4 1.  0.  1. ]\n",
      "[0. 0. 1. 0. 0. 0. 0. 0. 0. 1. 0. 0. 0. 0. 0. 0.]\n",
      "[0.  1.  1.  0.  1.  0.  0.  0.  1.  1.  0.  0.  0.2 1.  0.  0. ]\n"
     ]
    },
    {
     "name": "stderr",
     "output_type": "stream",
     "text": [
      "C:\\Users\\gudrb\\Anaconda3\\lib\\site-packages\\sklearn\\utils\\validation.py:475: DataConversionWarning: Data with input dtype int64 was converted to float64 by MinMaxScaler.\n",
      "  warnings.warn(msg, DataConversionWarning)\n"
     ]
    }
   ],
   "source": [
    "from sklearn.preprocessing import MinMaxScaler\n",
    "import numpy as np\n",
    "min_max_scaler = preprocessing.MinMaxScaler()\n",
    "zoo_list_att = np.array(zoo_list)[:,:-1]\n",
    "data_scaled = min_max_scaler.fit_transform(zoo_list_att)\n",
    "for i in data_scaled:\n",
    "    print(i)"
   ]
  },
  {
   "cell_type": "markdown",
   "metadata": {},
   "source": [
    "2"
   ]
  },
  {
   "cell_type": "code",
   "execution_count": 5,
   "metadata": {},
   "outputs": [
    {
     "name": "stdout",
     "output_type": "stream",
     "text": [
      "(70, 16) (70, 1)\n",
      "(31, 16) (31, 1)\n"
     ]
    },
    {
     "name": "stderr",
     "output_type": "stream",
     "text": [
      "C:\\Users\\gudrb\\Anaconda3\\lib\\site-packages\\sklearn\\cross_validation.py:41: DeprecationWarning: This module was deprecated in version 0.18 in favor of the model_selection module into which all the refactored classes and functions are moved. Also note that the interface of the new CV iterators are different from that of this module. This module will be removed in 0.20.\n",
      "  \"This module will be removed in 0.20.\", DeprecationWarning)\n"
     ]
    }
   ],
   "source": [
    "from sklearn.cross_validation import train_test_split\n",
    "X_train, X_test, y_train, y_test = train_test_split(np.array(zoo_list)[:,:-1],np.array(zoo_list)[:,-1:],test_size=0.3,random_state=42)\n",
    "print(X_train.shape,y_train.shape)\n",
    "print(X_test.shape,y_test.shape)"
   ]
  },
  {
   "cell_type": "code",
   "execution_count": 6,
   "metadata": {},
   "outputs": [
    {
     "name": "stdout",
     "output_type": "stream",
     "text": [
      "the number of tests: 31, the number of errors: 699\n",
      "accuracy: 0.81\n"
     ]
    },
    {
     "name": "stderr",
     "output_type": "stream",
     "text": [
      "C:\\Users\\gudrb\\Anaconda3\\lib\\site-packages\\ipykernel_launcher.py:5: DataConversionWarning: A column-vector y was passed when a 1d array was expected. Please change the shape of y to (n_samples, ), for example using ravel().\n",
      "  \"\"\"\n"
     ]
    }
   ],
   "source": [
    "from sklearn.neighbors import NearestNeighbors\n",
    "from sklearn.neighbors import KNeighborsClassifier\n",
    "from sklearn.metrics import accuracy_score\n",
    "clf = KNeighborsClassifier(n_neighbors =7)\n",
    "clf.fit(X_train, y_train)\n",
    "predictions = clf.predict(X_test)\n",
    "print('the number of tests: %d, the number of errors: %d'%(len(y_test),(y_test!=predictions).sum()) )\n",
    "print('accuracy: %.2f'%accuracy_score(y_test,predictions))"
   ]
  },
  {
   "cell_type": "code",
   "execution_count": 7,
   "metadata": {
    "scrolled": true
   },
   "outputs": [
    {
     "data": {
      "image/png": "[encoded data removed]",
      "text/plain": [
       "<matplotlib.figure.Figure at 0x2772f505e48>"
      ]
     },
     "metadata": {},
     "output_type": "display_data"
    }
   ],
   "source": [
    "import matplotlib.pyplot as plt\n",
    "%matplotlib inline\n",
    "plt.xticks(np.arange(1),[7])\n",
    "ax = plt.gca()\n",
    "ax.set_xlim([-1,1])\n",
    "plt.bar(np.arange(1),accuracy_score(y_test,predictions))\n",
    "plt.show()"
   ]
  },
  {
   "cell_type": "code",
   "execution_count": 8,
   "metadata": {
    "scrolled": true
   },
   "outputs": [
    {
     "name": "stdout",
     "output_type": "stream",
     "text": [
      "[[0.         0.         0.         0.         0.         1.\n",
      "  0.        ]\n",
      " [0.         0.         0.         0.         0.         1.\n",
      "  0.        ]\n",
      " [0.         0.         0.57142857 0.         0.         0.42857143\n",
      "  0.        ]\n",
      " [0.         0.         0.         0.         0.         1.\n",
      "  0.        ]\n",
      " [0.         0.         0.         0.         0.         1.\n",
      "  0.        ]\n",
      " [0.         0.         0.         0.42857143 0.42857143 0.\n",
      "  0.14285714]\n",
      " [0.         0.         0.         0.         0.         1.\n",
      "  0.        ]\n",
      " [0.         0.         0.         0.         0.         1.\n",
      "  0.        ]\n",
      " [0.         0.         0.         0.         0.         1.\n",
      "  0.        ]\n",
      " [0.         0.         0.         0.         0.         1.\n",
      "  0.        ]\n",
      " [0.         0.         1.         0.         0.         0.\n",
      "  0.        ]\n",
      " [0.         0.         0.         0.42857143 0.57142857 0.\n",
      "  0.        ]\n",
      " [0.         0.         0.         0.42857143 0.42857143 0.\n",
      "  0.14285714]\n",
      " [0.         1.         0.         0.         0.         0.\n",
      "  0.        ]\n",
      " [0.         0.         0.42857143 0.         0.42857143 0.\n",
      "  0.14285714]\n",
      " [0.         0.         0.         0.         0.         1.\n",
      "  0.        ]\n",
      " [0.         0.         0.         0.         0.         1.\n",
      "  0.        ]\n",
      " [0.         1.         0.         0.         0.         0.\n",
      "  0.        ]\n",
      " [0.         0.         1.         0.         0.         0.\n",
      "  0.        ]\n",
      " [0.         0.         0.         0.         0.         1.\n",
      "  0.        ]\n",
      " [0.         0.         0.85714286 0.         0.         0.\n",
      "  0.14285714]\n",
      " [0.28571429 0.         0.         0.         0.14285714 0.28571429\n",
      "  0.28571429]\n",
      " [0.28571429 0.14285714 0.         0.         0.28571429 0.\n",
      "  0.28571429]\n",
      " [0.         0.         0.         0.42857143 0.57142857 0.\n",
      "  0.        ]\n",
      " [0.         0.         0.         0.         0.         1.\n",
      "  0.        ]\n",
      " [0.         0.         0.         0.42857143 0.57142857 0.\n",
      "  0.        ]\n",
      " [0.         0.         0.         0.42857143 0.42857143 0.\n",
      "  0.14285714]\n",
      " [0.         0.         0.         0.42857143 0.42857143 0.\n",
      "  0.14285714]\n",
      " [0.         0.         0.         0.         0.         1.\n",
      "  0.        ]\n",
      " [0.         0.         0.         0.         0.         1.\n",
      "  0.        ]\n",
      " [0.         1.         0.         0.         0.         0.\n",
      "  0.        ]]\n"
     ]
    }
   ],
   "source": [
    "pred_prob = clf.predict_proba(X_test)\n",
    "print(pred_prob)"
   ]
  },
  {
   "cell_type": "code",
   "execution_count": 36,
   "metadata": {},
   "outputs": [
    {
     "name": "stdout",
     "output_type": "stream",
     "text": [
      "n_neighbors:1 accuracy: 0.97\n",
      "n_neighbors:5 accuracy: 0.94\n",
      "n_neighbors:9 accuracy: 0.74\n",
      "n_neighbors:15 accuracy: 0.68\n",
      "n_neighbors:35 accuracy: 0.58\n"
     ]
    },
    {
     "name": "stderr",
     "output_type": "stream",
     "text": [
      "C:\\Users\\gudrb\\Anaconda3\\lib\\site-packages\\ipykernel_launcher.py:5: DataConversionWarning: A column-vector y was passed when a 1d array was expected. Please change the shape of y to (n_samples, ), for example using ravel().\n",
      "  \"\"\"\n"
     ]
    },
    {
     "data": {
      "image/png": "[encoded data removed]",
      "text/plain": [
       "<matplotlib.figure.Figure at 0x2773349fd30>"
      ]
     },
     "metadata": {},
     "output_type": "display_data"
    }
   ],
   "source": [
    "accuracy_array=[]\n",
    "n_neighbors_array = [1,5,9,15,35]\n",
    "for i in n_neighbors_array:\n",
    "    clf = KNeighborsClassifier(n_neighbors =i)\n",
    "    clf.fit(X_train,y_train)\n",
    "    y_pred = clf.predict(X_test)\n",
    "    print('n_neighbors:%d accuracy: %.2f'%(i,accuracy_score(y_test,y_pred)))\n",
    "    accuracy_array.append(accuracy_score(y_test,y_pred))\n",
    "plt.xticks(np.arange(5),n_neighbors_array)\n",
    "ax = plt.gca()\n",
    "ax.set_xlim([-1,5])\n",
    "plt.bar(np.arange(len(accuracy_array)),accuracy_array)\n",
    "plt.show()"
   ]
  },
  {
   "cell_type": "code",
   "execution_count": 32,
   "metadata": {},
   "outputs": [
    {
     "name": "stdout",
     "output_type": "stream",
     "text": [
      "weights:uniform accuracy: 0.94\n",
      "weights:distance accuracy: 0.94\n"
     ]
    },
    {
     "name": "stderr",
     "output_type": "stream",
     "text": [
      "C:\\Users\\gudrb\\Anaconda3\\lib\\site-packages\\ipykernel_launcher.py:5: DataConversionWarning: A column-vector y was passed when a 1d array was expected. Please change the shape of y to (n_samples, ), for example using ravel().\n",
      "  \"\"\"\n"
     ]
    },
    {
     "data": {
      "image/png": "[encoded data removed]",
      "text/plain": [
       "<matplotlib.figure.Figure at 0x27733512d68>"
      ]
     },
     "metadata": {},
     "output_type": "display_data"
    }
   ],
   "source": [
    "accuracy_array=[]\n",
    "weights_array = ['uniform','distance']\n",
    "for i in weights_array:\n",
    "    clf = KNeighborsClassifier(weights=i)\n",
    "    clf.fit(X_train,y_train)\n",
    "    y_pred = clf.predict(X_test)\n",
    "    print('weights:%s accuracy: %.2f'%(i,accuracy_score(y_test,y_pred)))\n",
    "    accuracy_array.append(accuracy_score(y_test,y_pred))\n",
    "plt.xticks(np.arange(2),weights_array)\n",
    "ax = plt.gca()\n",
    "ax.set_xlim([-1,2])\n",
    "plt.bar(np.arange(len(accuracy_array)),accuracy_array)\n",
    "plt.show()"
   ]
  },
  {
   "cell_type": "markdown",
   "metadata": {},
   "source": [
    "'uniform' 방법은 기존의 knn방식으로 distance에 따라 majority voting을 실시한다.\n",
    "'distance' 방법은 distance에 inverse kernel을 적용한 값에 따라 각 class의 confidence를 계산하여 가장 높은 값을 가지는 class를 선택하는 weighted voting을 실시한다."
   ]
  },
  {
   "cell_type": "code",
   "execution_count": 26,
   "metadata": {},
   "outputs": [
    {
     "name": "stdout",
     "output_type": "stream",
     "text": [
      "p:1 accuracy: 0.97\n",
      "p:2 accuracy: 0.94\n"
     ]
    },
    {
     "name": "stderr",
     "output_type": "stream",
     "text": [
      "C:\\Users\\gudrb\\Anaconda3\\lib\\site-packages\\ipykernel_launcher.py:5: DataConversionWarning: A column-vector y was passed when a 1d array was expected. Please change the shape of y to (n_samples, ), for example using ravel().\n",
      "  \"\"\"\n"
     ]
    },
    {
     "data": {
      "image/png": "[encoded data removed]",
      "text/plain": [
       "<matplotlib.figure.Figure at 0x277332ea668>"
      ]
     },
     "metadata": {},
     "output_type": "display_data"
    }
   ],
   "source": [
    "accuracy_array=[]\n",
    "p_array = [1,2]\n",
    "for i in p_array:\n",
    "    clf = KNeighborsClassifier(p=i)\n",
    "    clf.fit(X_train,y_train)\n",
    "    y_pred = clf.predict(X_test)\n",
    "    print('p:%d accuracy: %.2f'%(i,accuracy_score(y_test,y_pred)))\n",
    "    accuracy_array.append(accuracy_score(y_test,y_pred))\n",
    "plt.xticks(np.arange(2),p_array)\n",
    "ax = plt.gca()\n",
    "ax.set_xlim([-1,2])\n",
    "plt.bar(np.arange(len(accuracy_array)),accuracy_array)\n",
    "plt.show()"
   ]
  },
  {
   "cell_type": "markdown",
   "metadata": {},
   "source": [
    "'p'값은 minkowski_distance의 파라미터 값을 의미한다. classification을 위해 dist를 계산할때 \n",
    "p가 1일 경우 manhattan distance로 계산하고, 2이면 euclidian distance로 계산한다."
   ]
  },
  {
   "cell_type": "code",
   "execution_count": 28,
   "metadata": {},
   "outputs": [
    {
     "name": "stdout",
     "output_type": "stream",
     "text": [
      "(array([[0.]]), array([[0]], dtype=int64))\n"
     ]
    }
   ],
   "source": [
    "from sklearn.neighbors import NearestNeighbors\n",
    "clf = NearestNeighbors(n_neighbors=1)\n",
    "clf.fit(X_train)\n",
    "print(clf.kneighbors([X_train[0]]))"
   ]
  },
  {
   "cell_type": "code",
   "execution_count": 39,
   "metadata": {},
   "outputs": [
    {
     "name": "stdout",
     "output_type": "stream",
     "text": [
      "accuracy: 0.65\n"
     ]
    },
    {
     "name": "stderr",
     "output_type": "stream",
     "text": [
      "C:\\Users\\gudrb\\Anaconda3\\lib\\site-packages\\sklearn\\utils\\validation.py:578: DataConversionWarning: A column-vector y was passed when a 1d array was expected. Please change the shape of y to (n_samples, ), for example using ravel().\n",
      "  y = column_or_1d(y, warn=True)\n"
     ]
    }
   ],
   "source": [
    "from sklearn.ensemble import AdaBoostClassifier\n",
    "from sklearn.tree import DecisionTreeClassifier\n",
    "\n",
    "clf = AdaBoostClassifier()\n",
    "clf.fit(X_train,y_train)\n",
    "\n",
    "y_pred = clf.predict(X_test)\n",
    "print('accuracy: %.2f'%(accuracy_score(y_test,y_pred)))"
   ]
  },
  {
   "cell_type": "code",
   "execution_count": 41,
   "metadata": {
    "scrolled": true
   },
   "outputs": [
    {
     "name": "stderr",
     "output_type": "stream",
     "text": [
      "C:\\Users\\gudrb\\Anaconda3\\lib\\site-packages\\sklearn\\utils\\validation.py:578: DataConversionWarning: A column-vector y was passed when a 1d array was expected. Please change the shape of y to (n_samples, ), for example using ravel().\n",
      "  y = column_or_1d(y, warn=True)\n",
      "C:\\Users\\gudrb\\Anaconda3\\lib\\site-packages\\sklearn\\utils\\validation.py:578: DataConversionWarning: A column-vector y was passed when a 1d array was expected. Please change the shape of y to (n_samples, ), for example using ravel().\n",
      "  y = column_or_1d(y, warn=True)\n",
      "C:\\Users\\gudrb\\Anaconda3\\lib\\site-packages\\sklearn\\utils\\validation.py:578: DataConversionWarning: A column-vector y was passed when a 1d array was expected. Please change the shape of y to (n_samples, ), for example using ravel().\n",
      "  y = column_or_1d(y, warn=True)\n",
      "C:\\Users\\gudrb\\Anaconda3\\lib\\site-packages\\sklearn\\utils\\validation.py:578: DataConversionWarning: A column-vector y was passed when a 1d array was expected. Please change the shape of y to (n_samples, ), for example using ravel().\n",
      "  y = column_or_1d(y, warn=True)\n"
     ]
    },
    {
     "name": "stdout",
     "output_type": "stream",
     "text": [
      "estimators:3 accuracy: 0.58\n",
      "estimators:7 accuracy: 0.77\n",
      "estimators:10 accuracy: 0.77\n",
      "estimators:100 accuracy: 0.81\n"
     ]
    },
    {
     "name": "stderr",
     "output_type": "stream",
     "text": [
      "C:\\Users\\gudrb\\Anaconda3\\lib\\site-packages\\sklearn\\utils\\validation.py:578: DataConversionWarning: A column-vector y was passed when a 1d array was expected. Please change the shape of y to (n_samples, ), for example using ravel().\n",
      "  y = column_or_1d(y, warn=True)\n"
     ]
    },
    {
     "name": "stdout",
     "output_type": "stream",
     "text": [
      "estimators:300 accuracy: 0.77\n"
     ]
    },
    {
     "data": {
      "image/png": "[encoded data removed]",
      "text/plain": [
       "<matplotlib.figure.Figure at 0x277334635c0>"
      ]
     },
     "metadata": {},
     "output_type": "display_data"
    }
   ],
   "source": [
    "accuracy_array=[]\n",
    "n_estimators_array = [3,7,10,100,300]\n",
    "for i in n_estimators_array:\n",
    "    clf = AdaBoostClassifier(n_estimators=i,algorithm='SAMME')\n",
    "    clf.fit(X_train,y_train)\n",
    "    y_pred = clf.predict(X_test)\n",
    "    print('estimators:%d accuracy: %.2f'%(i,accuracy_score(y_test,y_pred)))\n",
    "    accuracy_array.append(accuracy_score(y_test,y_pred))\n",
    "plt.xticks(np.arange(5),n_estimators_array)\n",
    "ax = plt.gca()\n",
    "ax.set_xlim([-1,5])\n",
    "plt.bar(np.arange(len(accuracy_array)),accuracy_array)\n",
    "plt.show()"
   ]
  },
  {
   "cell_type": "markdown",
   "metadata": {},
   "source": [
    "1) n_estimators 는 AdaBoost에 사용되는 분류기의 갯수를 나타낸다. 일반적으로 분류기가 많이 사용될 수록 예측값의 정확도는 높아진다. \n",
    "2) Adaboost를 IBL과 비교했을 때 조금더 낮은 정확도를 보여준다. 그리고 estimators를 300으로 두었을 때 조금 더 정확도가 떨어지는 것을 볼 수 있는데, noise에 취약한 탓이 아닐까 생각된다."
   ]
  },
  {
   "cell_type": "code",
   "execution_count": 48,
   "metadata": {},
   "outputs": [
    {
     "name": "stdout",
     "output_type": "stream",
     "text": [
      "accuracy: 0.81\n"
     ]
    },
    {
     "name": "stderr",
     "output_type": "stream",
     "text": [
      "C:\\Users\\gudrb\\Anaconda3\\lib\\site-packages\\ipykernel_launcher.py:3: DataConversionWarning: A column-vector y was passed when a 1d array was expected. Please change the shape of y to (n_samples,), for example using ravel().\n",
      "  This is separate from the ipykernel package so we can avoid doing imports until\n"
     ]
    }
   ],
   "source": [
    "from sklearn.ensemble import RandomForestClassifier\n",
    "clf = RandomForestClassifier(n_estimators=100, max_depth=2, random_state=0)\n",
    "clf.fit(X_train,y_train)\n",
    "y_pred = clf.predict(X_test)\n",
    "print('accuracy: %.2f'%(accuracy_score(y_test,y_pred)))"
   ]
  },
  {
   "cell_type": "code",
   "execution_count": 55,
   "metadata": {
    "scrolled": false
   },
   "outputs": [
    {
     "name": "stderr",
     "output_type": "stream",
     "text": [
      "C:\\Users\\gudrb\\Anaconda3\\lib\\site-packages\\ipykernel_launcher.py:5: DataConversionWarning: A column-vector y was passed when a 1d array was expected. Please change the shape of y to (n_samples,), for example using ravel().\n",
      "  \"\"\"\n",
      "C:\\Users\\gudrb\\Anaconda3\\lib\\site-packages\\ipykernel_launcher.py:5: DataConversionWarning: A column-vector y was passed when a 1d array was expected. Please change the shape of y to (n_samples,), for example using ravel().\n",
      "  \"\"\"\n",
      "C:\\Users\\gudrb\\Anaconda3\\lib\\site-packages\\ipykernel_launcher.py:5: DataConversionWarning: A column-vector y was passed when a 1d array was expected. Please change the shape of y to (n_samples,), for example using ravel().\n",
      "  \"\"\"\n",
      "C:\\Users\\gudrb\\Anaconda3\\lib\\site-packages\\ipykernel_launcher.py:5: DataConversionWarning: A column-vector y was passed when a 1d array was expected. Please change the shape of y to (n_samples,), for example using ravel().\n",
      "  \"\"\"\n"
     ]
    },
    {
     "name": "stdout",
     "output_type": "stream",
     "text": [
      "estimators:5 accuracy: 0.84\n",
      "estimators:10 accuracy: 0.84\n",
      "estimators:50 accuracy: 0.81\n",
      "estimators:100 accuracy: 0.81\n"
     ]
    },
    {
     "name": "stderr",
     "output_type": "stream",
     "text": [
      "C:\\Users\\gudrb\\Anaconda3\\lib\\site-packages\\ipykernel_launcher.py:5: DataConversionWarning: A column-vector y was passed when a 1d array was expected. Please change the shape of y to (n_samples,), for example using ravel().\n",
      "  \"\"\"\n"
     ]
    },
    {
     "name": "stdout",
     "output_type": "stream",
     "text": [
      "estimators:300 accuracy: 0.81\n"
     ]
    },
    {
     "data": {
      "image/png": "[encoded data removed]",
      "text/plain": [
       "<matplotlib.figure.Figure at 0x27732204668>"
      ]
     },
     "metadata": {},
     "output_type": "display_data"
    }
   ],
   "source": [
    "accuracy_array=[]\n",
    "n_estimators_array = [5,10,50,100,300]\n",
    "for i in n_estimators_array:\n",
    "    clf = RandomForestClassifier(n_estimators=i, max_depth=2, random_state=0)\n",
    "    clf.fit(X_train,y_train)\n",
    "    y_pred = clf.predict(X_test)\n",
    "    print('estimators:%d accuracy: %.2f'%(i,accuracy_score(y_test,y_pred)))\n",
    "    accuracy_array.append(accuracy_score(y_test,y_pred))\n",
    "plt.xticks(np.arange(5),n_estimators_array)\n",
    "ax = plt.gca()\n",
    "ax.set_xlim([-1,5])\n",
    "plt.bar(np.arange(len(accuracy_array)),accuracy_array)\n",
    "plt.show()"
   ]
  },
  {
   "cell_type": "markdown",
   "metadata": {},
   "source": [
    "n_estemators는 tree의 갯수를 나타낸다. 즉 bagging을 얼마나 하느냐를 나타내고, estermators가 너무 많아지면 오히려 정확도가 떨어지는 것을 볼 수 있다. 노이즈로 인해 잘못된 예측값이 많아 majority voting이 잘못된 결과를 도출한듯 보인다."
   ]
  },
  {
   "cell_type": "code",
   "execution_count": 58,
   "metadata": {
    "scrolled": true
   },
   "outputs": [
    {
     "name": "stderr",
     "output_type": "stream",
     "text": [
      "C:\\Users\\gudrb\\Anaconda3\\lib\\site-packages\\ipykernel_launcher.py:5: DataConversionWarning: A column-vector y was passed when a 1d array was expected. Please change the shape of y to (n_samples,), for example using ravel().\n",
      "  \"\"\"\n",
      "C:\\Users\\gudrb\\Anaconda3\\lib\\site-packages\\sklearn\\ensemble\\forest.py:453: UserWarning: Some inputs do not have OOB scores. This probably means too few trees were used to compute any reliable oob estimates.\n",
      "  warn(\"Some inputs do not have OOB scores. \"\n",
      "C:\\Users\\gudrb\\Anaconda3\\lib\\site-packages\\sklearn\\ensemble\\forest.py:458: RuntimeWarning: invalid value encountered in true_divide\n",
      "  predictions[k].sum(axis=1)[:, np.newaxis])\n",
      "C:\\Users\\gudrb\\Anaconda3\\lib\\site-packages\\ipykernel_launcher.py:5: DataConversionWarning: A column-vector y was passed when a 1d array was expected. Please change the shape of y to (n_samples,), for example using ravel().\n",
      "  \"\"\"\n",
      "C:\\Users\\gudrb\\Anaconda3\\lib\\site-packages\\sklearn\\ensemble\\forest.py:453: UserWarning: Some inputs do not have OOB scores. This probably means too few trees were used to compute any reliable oob estimates.\n",
      "  warn(\"Some inputs do not have OOB scores. \"\n",
      "C:\\Users\\gudrb\\Anaconda3\\lib\\site-packages\\sklearn\\ensemble\\forest.py:458: RuntimeWarning: invalid value encountered in true_divide\n",
      "  predictions[k].sum(axis=1)[:, np.newaxis])\n"
     ]
    },
    {
     "name": "stdout",
     "output_type": "stream",
     "text": [
      "oob_score:True accuracy: 0.84\n",
      "oob_score:False accuracy: 0.84\n"
     ]
    },
    {
     "data": {
      "image/png": "[encoded data removed]",
      "text/plain": [
       "<matplotlib.figure.Figure at 0x277335da470>"
      ]
     },
     "metadata": {},
     "output_type": "display_data"
    }
   ],
   "source": [
    "accuracy_array=[]\n",
    "oob_score_array = ['True','False']\n",
    "for i in oob_score_array:\n",
    "    clf = RandomForestClassifier(n_estimators=5, max_depth=2, random_state=0, oob_score=i)\n",
    "    clf.fit(X_train,y_train)\n",
    "    y_pred = clf.predict(X_test)\n",
    "    print('oob_score:%s accuracy: %.2f'%(i,accuracy_score(y_test,y_pred)))\n",
    "    accuracy_array.append(accuracy_score(y_test,y_pred))\n",
    "plt.xticks(np.arange(5),n_estimators_array)\n",
    "ax = plt.gca()\n",
    "ax.set_xlim([-1,5])\n",
    "plt.bar(np.arange(len(accuracy_array)),accuracy_array)\n",
    "plt.show()"
   ]
  },
  {
   "cell_type": "markdown",
   "metadata": {},
   "source": [
    "error rate을 측정할 때 oob error를 측정하느냐 아니냐를 지정해줌, oob error rate은 N-fold cross validation과 수행 방법이 유사하다."
   ]
  },
  {
   "cell_type": "code",
   "execution_count": 62,
   "metadata": {
    "scrolled": false
   },
   "outputs": [
    {
     "name": "stderr",
     "output_type": "stream",
     "text": [
      "C:\\Users\\gudrb\\Anaconda3\\lib\\site-packages\\ipykernel_launcher.py:5: DataConversionWarning: A column-vector y was passed when a 1d array was expected. Please change the shape of y to (n_samples,), for example using ravel().\n",
      "  \"\"\"\n",
      "C:\\Users\\gudrb\\Anaconda3\\lib\\site-packages\\ipykernel_launcher.py:5: DataConversionWarning: A column-vector y was passed when a 1d array was expected. Please change the shape of y to (n_samples,), for example using ravel().\n",
      "  \"\"\"\n",
      "C:\\Users\\gudrb\\Anaconda3\\lib\\site-packages\\ipykernel_launcher.py:5: DataConversionWarning: A column-vector y was passed when a 1d array was expected. Please change the shape of y to (n_samples,), for example using ravel().\n",
      "  \"\"\"\n"
     ]
    },
    {
     "name": "stdout",
     "output_type": "stream",
     "text": [
      "max_features:auto accuracy: 0.84\n",
      "max_features:sqrt accuracy: 0.84\n",
      "max_features:log2 accuracy: 0.84\n"
     ]
    },
    {
     "data": {
      "image/png": "[encoded data removed]",
      "text/plain": [
       "<matplotlib.figure.Figure at 0x27733379a20>"
      ]
     },
     "metadata": {},
     "output_type": "display_data"
    }
   ],
   "source": [
    "accuracy_array=[]\n",
    "max_features_array = ['auto','sqrt','log2']\n",
    "for i in max_features_array:\n",
    "    clf = RandomForestClassifier(n_estimators=5, max_depth=2, random_state=0, max_features=i)\n",
    "    clf.fit(X_train,y_train)\n",
    "    y_pred = clf.predict(X_test)\n",
    "    print('max_features:%s accuracy: %.2f'%(i,accuracy_score(y_test,y_pred)))\n",
    "    accuracy_array.append(accuracy_score(y_test,y_pred))\n",
    "plt.xticks(np.arange(5),n_estimators_array)\n",
    "ax = plt.gca()\n",
    "ax.set_xlim([-1,5])\n",
    "plt.bar(np.arange(len(accuracy_array)),accuracy_array)\n",
    "plt.show()"
   ]
  },
  {
   "cell_type": "markdown",
   "metadata": {},
   "source": [
    "max_features는 bagging을 할때 총 M개의 특성중 최대m개의 특성을 뽑아서 트리를 만드느냐를 나타낸다. 교재에서는 Regression의 경우 m = M/3으로 제안되고, Classification의 경우 m = sqrt(M)개로 제안된다. m이 커질수록 bagging된 모든 트리들은 비슷해지고, 트리마다 특성을 고려할 필요 없이 가장 두드러징 특성에 맞게 트리가 생성된다. m이 낮을 수록 트리마다 각각 특성에 맞게 트리들이 생성되며, 그에맞게 깊이가 더 깊은 트리가 생성된다."
   ]
  },
  {
   "cell_type": "code",
   "execution_count": null,
   "metadata": {},
   "outputs": [],
   "source": [
    "zoo data set에서는 아주 근소한 차이로 random forest모델이 더 우수한 성능을 보이고 있다. 그러나 거의 차이는 없고, adaboost 모델이\n",
    "더 낮은 정확도를 보이는 것은, 데이터 특성에 따른 차이 인듯하다."
   ]
  },
  {
   "cell_type": "code",
   "execution_count": 63,
   "metadata": {},
   "outputs": [
    {
     "name": "stderr",
     "output_type": "stream",
     "text": [
      "C:\\Users\\gudrb\\Anaconda3\\lib\\site-packages\\sklearn\\utils\\validation.py:578: DataConversionWarning: A column-vector y was passed when a 1d array was expected. Please change the shape of y to (n_samples, ), for example using ravel().\n",
      "  y = column_or_1d(y, warn=True)\n"
     ]
    },
    {
     "name": "stdout",
     "output_type": "stream",
     "text": [
      "accuracy: 0.84\n"
     ]
    }
   ],
   "source": [
    "from sklearn import svm\n",
    "clf = svm.SVC()\n",
    "clf.fit(X_train,y_train)\n",
    "y_pred = clf.predict(X_test)\n",
    "print('accuracy: %.2f'%(accuracy_score(y_test,y_pred)))"
   ]
  },
  {
   "cell_type": "code",
   "execution_count": 64,
   "metadata": {},
   "outputs": [
    {
     "name": "stdout",
     "output_type": "stream",
     "text": [
      "kernel:linear accuracy: 0.84\n",
      "kernel:poly accuracy: 0.84\n",
      "kernel:rbf accuracy: 0.84\n",
      "kernel:sigmoid accuracy: 0.84\n"
     ]
    },
    {
     "name": "stderr",
     "output_type": "stream",
     "text": [
      "C:\\Users\\gudrb\\Anaconda3\\lib\\site-packages\\sklearn\\utils\\validation.py:578: DataConversionWarning: A column-vector y was passed when a 1d array was expected. Please change the shape of y to (n_samples, ), for example using ravel().\n",
      "  y = column_or_1d(y, warn=True)\n"
     ]
    }
   ],
   "source": [
    "accuracy_array=[]\n",
    "kernel_array = ['linear','poly','rbf','sigmoid']\n",
    "for i in kernel_array:\n",
    "    clf = svm.SVC()\n",
    "    clf.fit(X_train,y_train)\n",
    "    y_pred = clf.predict(X_test)\n",
    "    print('kernel:%s accuracy: %.2f'%(i,accuracy_score(y_test,y_pred)))\n",
    "    accuracy_array.append(accuracy_score(y_test,y_pred))"
   ]
  },
  {
   "cell_type": "markdown",
   "metadata": {},
   "source": [
    "same accuracy"
   ]
  },
  {
   "cell_type": "markdown",
   "metadata": {},
   "source": [
    "random forest와 adaboost보다는 svc가 평균적으로는 더 높은 정확도를 보여주었지만, 최적의 파라미터 세팅을 했을 때는 세 모델 모두 동일한\n",
    "accuracy를 보여주고 있다."
   ]
  },
  {
   "cell_type": "code",
   "execution_count": 77,
   "metadata": {},
   "outputs": [
    {
     "data": {
      "text/plain": [
       "array([4, 1, 1, 3, 1, 1, 2, 1, 3, 5, 0, 0, 3, 0, 1, 6, 1, 4, 6, 1, 5, 2,\n",
       "       1, 1, 0, 0, 3, 1, 1, 1, 2, 7, 3, 1, 1, 1, 2, 1, 0, 1, 0, 3, 4, 1,\n",
       "       4, 3, 1, 1, 3, 3, 1, 2, 3, 1, 1, 4, 7, 0, 7, 7, 5, 6, 6, 0, 3, 6,\n",
       "       4, 2, 6, 2], dtype=int32)"
      ]
     },
     "execution_count": 77,
     "metadata": {},
     "output_type": "execute_result"
    }
   ],
   "source": [
    "import matplotlib.pyplot as pyplot\n",
    "%matplotlib inline\n",
    "from sklearn import cluster\n",
    "from sklearn.cluster import KMeans\n",
    "import numpy as np\n",
    "\n",
    "k_means = cluster.KMeans()\n",
    "k_means.fit(X_train)\n",
    "\n",
    "labels = k_means.labels_\n",
    "labels"
   ]
  },
  {
   "cell_type": "code",
   "execution_count": 78,
   "metadata": {},
   "outputs": [
    {
     "data": {
      "text/plain": [
       "array([[6.        , 6.        , 7.        , 6.        , 6.        ,\n",
       "        6.88888889, 6.55555556, 7.        , 7.        , 6.11111111,\n",
       "        6.        , 6.88888889, 0.        , 7.        , 6.11111111,\n",
       "        6.        ],\n",
       "       [7.        , 6.        , 6.04166667, 7.        , 6.04166667,\n",
       "        6.125     , 6.54166667, 6.95833333, 7.        , 7.        ,\n",
       "        6.        , 6.04166667, 1.83333333, 6.875     , 6.20833333,\n",
       "        6.75      ],\n",
       "       [6.14285714, 6.        , 7.        , 6.        , 6.14285714,\n",
       "        6.57142857, 6.57142857, 6.        , 6.        , 6.42857143,\n",
       "        6.        , 6.        , 3.71428571, 6.        , 6.        ,\n",
       "        6.14285714],\n",
       "       [6.        , 7.        , 7.        , 6.        , 6.90909091,\n",
       "        6.09090909, 6.45454545, 6.        , 7.        , 7.        ,\n",
       "        6.        , 6.        , 1.        , 7.        , 6.18181818,\n",
       "        6.09090909],\n",
       "       [6.        , 6.33333333, 7.        , 6.        , 6.        ,\n",
       "        6.5       , 6.83333333, 6.5       , 7.        , 7.        ,\n",
       "        6.        , 6.        , 1.66666667, 6.83333333, 6.        ,\n",
       "        6.5       ],\n",
       "       [6.        , 6.        , 7.        , 6.        , 6.        ,\n",
       "        6.        , 6.33333333, 6.        , 6.        , 6.66666667,\n",
       "        6.        , 6.        , 0.        , 6.        , 6.        ,\n",
       "        6.        ],\n",
       "       [6.16666667, 6.        , 6.66666667, 6.33333333, 6.        ,\n",
       "        6.83333333, 7.        , 7.        , 7.        , 6.5       ,\n",
       "        6.33333333, 6.83333333, 0.        , 6.83333333, 6.        ,\n",
       "        6.83333333],\n",
       "       [6.        , 7.        , 7.        , 6.        , 6.75      ,\n",
       "        6.5       , 6.        , 6.        , 7.        , 7.        ,\n",
       "        6.        , 6.        , 1.        , 7.        , 6.        ,\n",
       "        6.75      ]])"
      ]
     },
     "execution_count": 78,
     "metadata": {},
     "output_type": "execute_result"
    }
   ],
   "source": [
    "centroids = k_means.cluster_centers_\n",
    "centroids"
   ]
  },
  {
   "cell_type": "code",
   "execution_count": 79,
   "metadata": {},
   "outputs": [
    {
     "name": "stdout",
     "output_type": "stream",
     "text": [
      "inertia for KMeans with 4 clusters = 75.178211\n"
     ]
    }
   ],
   "source": [
    "print(\"inertia for KMeans with 4 clusters = %lf\"%(k_means.inertia_)) #군집의 응집도를 나타내줌"
   ]
  },
  {
   "cell_type": "code",
   "execution_count": 94,
   "metadata": {},
   "outputs": [
    {
     "name": "stdout",
     "output_type": "stream",
     "text": [
      "n_clusters:2 inertia: 196.000000\n",
      "Counter({1: 35, 0: 35})\n",
      "n_clusters:3 inertia: 196.000000\n",
      "Counter({0: 35, 1: 24, 2: 11})\n",
      "n_clusters:5 inertia: 196.000000\n",
      "Counter({1: 24, 0: 18, 3: 15, 2: 7, 4: 6})\n",
      "n_clusters:7 inertia: 196.000000\n",
      "Counter({1: 24, 3: 15, 0: 9, 2: 7, 4: 6, 6: 6, 5: 3})\n",
      "n_clusters:9 inertia: 196.000000\n",
      "Counter({1: 24, 3: 11, 0: 9, 6: 6, 2: 5, 8: 5, 4: 4, 5: 3, 7: 3})\n"
     ]
    }
   ],
   "source": [
    "from collections import Counter\n",
    "accuracy_array=[]\n",
    "n_clusters_array = [2,3,5,7,9]\n",
    "for i in n_clusters_array:\n",
    "    clf = cluster.KMeans(n_clusters=i)\n",
    "    clf.fit(X_train)\n",
    "    y_pred = clf.predict(X_test)\n",
    "    print('n_clusters:%s inertia: %lf'%(i,k_means.inertia_))\n",
    "    labels = clf.labels_\n",
    "    print(Counter(labels))"
   ]
  },
  {
   "cell_type": "code",
   "execution_count": 92,
   "metadata": {},
   "outputs": [
    {
     "name": "stdout",
     "output_type": "stream",
     "text": [
      "Counter({1: 35, 0: 35})\n"
     ]
    }
   ],
   "source": [
    "from collections import Counter\n",
    "k_means = cluster.KMeans(n_clusters=2)\n",
    "k_means.fit(X_train)\n",
    "\n",
    "labels = k_means.labels_\n",
    "print(Counter(labels))"
   ]
  },
  {
   "cell_type": "code",
   "execution_count": 104,
   "metadata": {
    "scrolled": true
   },
   "outputs": [
    {
     "name": "stdout",
     "output_type": "stream",
     "text": [
      "average of 0 th attribute: 6.125000\n",
      "average of 1 th attribute: 6.250000\n",
      "average of 2 th attribute: 6.187500\n",
      "average of 3 th attribute: 6.187500\n",
      "average of 4 th attribute: 6.250000\n",
      "average of 5 th attribute: 6.187500\n",
      "average of 6 th attribute: 6.187500\n",
      "average of 7 th attribute: 6.125000\n",
      "average of 8 th attribute: 6.125000\n",
      "average of 9 th attribute: 6.125000\n",
      "average of 10 th attribute: 6.187500\n",
      "average of 11 th attribute: 6.000000\n",
      "average of 12 th attribute: 6.187500\n",
      "average of 13 th attribute: 6.187500\n",
      "average of 14 th attribute: 6.250000\n",
      "average of 15 th attribute: 6.250000\n"
     ]
    }
   ],
   "source": [
    "k_means = cluster.KMeans(n_clusters=2)\n",
    "k_means.fit(X_train)\n",
    "\n",
    "labels = k_means.labels_\n",
    "selected_X_train =[]\n",
    "for i,j in zip(X_train,labels):\n",
    "    if j==1:\n",
    "        selected_X_train.append(i)\n",
    "selected_X_T = np.array(selected_X_train).T\n",
    "for i in range(len(selected_X_T)):\n",
    "    print(\"average of %d th attribute: %f\"%(i,selected_X_train[i].mean()))"
   ]
  },
  {
   "cell_type": "code",
   "execution_count": 105,
   "metadata": {},
   "outputs": [
    {
     "name": "stdout",
     "output_type": "stream",
     "text": [
      "1\n"
     ]
    }
   ],
   "source": [
    "print(max(Counter(labels)))"
   ]
  },
  {
   "cell_type": "code",
   "execution_count": 173,
   "metadata": {},
   "outputs": [
    {
     "name": "stdout",
     "output_type": "stream",
     "text": [
      "accuracy: 0.58\n"
     ]
    }
   ],
   "source": [
    "list_y=y_train.reshape(1,-1)[0]\n",
    "k_means = cluster.KMeans(n_clusters=len(set(list_y)))\n",
    "k_means.fit(X_train)\n",
    "\n",
    "labels = k_means.labels_\n",
    "labels = [k for k in sorted(dict(Counter(labels)), key=dict(Counter(labels)).get, reverse=True)]\n",
    "\n",
    "list_y = [k for k in sorted(dict(Counter(list_y)), key=dict(Counter(list_y)).get, reverse=True)]\n",
    "answer_y=y_train.reshape(1,-1)[0]\n",
    "k_means = cluster.KMeans(n_clusters=len(set(answer_y)))\n",
    "k_means.fit(X_test)\n",
    "answer_labels = k_means.labels_\n",
    "\n",
    "for i in range(len(answer_labels)):\n",
    "    answer_labels[i]=list_y[labels.index(answer_labels[i])]\n",
    "\n",
    "print(\"accuracy: %.2f\"%(accuracy_score(y_test,answer_labels)))"
   ]
  },
  {
   "cell_type": "code",
   "execution_count": 181,
   "metadata": {},
   "outputs": [
    {
     "name": "stdout",
     "output_type": "stream",
     "text": [
      "n_init: 1 accuracy: 0.58\n",
      "n_init: 3 accuracy: 0.58\n",
      "n_init: 5 accuracy: 0.58\n",
      "n_init: 7 accuracy: 0.58\n",
      "n_init: 9 accuracy: 0.58\n"
     ]
    }
   ],
   "source": [
    "accuracy_array=[]\n",
    "n_init_array = [1,3,5,7,9]\n",
    "for i in n_init_array:\n",
    "    list_y=y_train.reshape(1,-1)[0]\n",
    "    k_means = cluster.KMeans(n_clusters=len(set(list_y)),n_init =i)\n",
    "    k_means.fit(X_train)\n",
    "\n",
    "    labels = k_means.labels_\n",
    "    labels = [k for k in sorted(dict(Counter(labels)), key=dict(Counter(labels)).get, reverse=True)]\n",
    "\n",
    "    list_y = [k for k in sorted(dict(Counter(list_y)), key=dict(Counter(list_y)).get, reverse=True)]\n",
    "    answer_y=y_train.reshape(1,-1)[0]\n",
    "    k_means = cluster.KMeans(n_clusters=len(set(answer_y)),n_init =i)\n",
    "    k_means.fit(X_test)\n",
    "    answer_labels = k_means.labels_\n",
    "\n",
    "    for j in range(len(answer_labels)):\n",
    "        answer_labels[j]=list_y[labels.index(answer_labels[j])]\n",
    "\n",
    "    print(\"n_init: %d accuracy: %.2f\"%(i,accuracy_score(y_test,answer_labels)))\n"
   ]
  }
 ],
 "metadata": {
  "kernelspec": {
   "display_name": "Python 3",
   "language": "python",
   "name": "python3"
  },
  "language_info": {
   "codemirror_mode": {
    "name": "ipython",
    "version": 3
   },
   "file_extension": ".py",
   "mimetype": "text/x-python",
   "name": "python",
   "nbconvert_exporter": "python",
   "pygments_lexer": "ipython3",
   "version": "3.6.3"
  }
 },
 "nbformat": 4,
 "nbformat_minor": 2
}
