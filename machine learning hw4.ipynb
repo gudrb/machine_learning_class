{
 "cells": [
  {
   "cell_type": "code",
   "execution_count": 4,
   "metadata": {},
   "outputs": [
    {
     "name": "stdout",
     "output_type": "stream",
     "text": [
      "['0' '2' '4' '5' '6' '8' 'FALSE' 'TRUE' 'amphibian' 'bird' 'fish' 'insect'\n",
      " 'invertebrate' 'mammal' 'reptile']\n"
     ]
    }
   ],
   "source": [
    "import csv\n",
    "from sklearn import preprocessing\n",
    "with open(\"zoo.csv\") as f:\n",
    "    zoo = csv.reader(f)\n",
    "    zoo = list(zoo)\n",
    "zoo[0][0] = 'TRUE'\n",
    "def uniq_values(list1):\n",
    "    unique = []\n",
    "    for i in list1:\n",
    "        unique.extend(list(set(i)))\n",
    "    unique=list(set(unique))\n",
    "    le = preprocessing.LabelEncoder()\n",
    "    le.fit(unique)\n",
    "    print(le.classes_)\n",
    "    return list(le.classes_)\n",
    "unique = uniq_values(zoo)"
   ]
  },
  {
   "cell_type": "code",
   "execution_count": 6,
   "metadata": {
    "scrolled": true
   },
   "outputs": [
    {
     "data": {
      "text/plain": [
       "[[7, 6, 6, 7, 6, 6, 7, 7, 7, 7, 6, 6, 2, 6, 6, 7, 13],\n",
       " [7, 6, 6, 7, 6, 6, 6, 7, 7, 7, 6, 6, 2, 7, 6, 7, 13],\n",
       " [6, 6, 7, 6, 6, 7, 7, 7, 7, 6, 6, 7, 0, 7, 6, 6, 10],\n",
       " [7, 6, 6, 7, 6, 6, 7, 7, 7, 7, 6, 6, 2, 6, 6, 7, 13],\n",
       " [7, 6, 6, 7, 6, 6, 7, 7, 7, 7, 6, 6, 2, 7, 6, 7, 13],\n",
       " [7, 6, 6, 7, 6, 6, 6, 7, 7, 7, 6, 6, 2, 7, 6, 7, 13],\n",
       " [7, 6, 6, 7, 6, 6, 6, 7, 7, 7, 6, 6, 2, 7, 7, 7, 13],\n",
       " [6, 6, 7, 6, 6, 7, 6, 7, 7, 6, 6, 7, 0, 7, 7, 6, 10],\n",
       " [6, 6, 7, 6, 6, 7, 7, 7, 7, 6, 6, 7, 0, 7, 6, 6, 10],\n",
       " [7, 6, 6, 7, 6, 6, 6, 7, 7, 7, 6, 6, 2, 6, 7, 6, 13],\n",
       " [7, 6, 6, 7, 6, 6, 7, 7, 7, 7, 6, 6, 2, 7, 6, 7, 13],\n",
       " [6, 7, 7, 6, 7, 6, 6, 6, 7, 7, 6, 6, 1, 7, 7, 6, 9],\n",
       " [6, 6, 7, 6, 6, 7, 7, 7, 7, 6, 6, 7, 0, 7, 6, 6, 10],\n",
       " [6, 6, 7, 6, 6, 6, 7, 6, 6, 6, 6, 6, 0, 6, 6, 6, 12],\n",
       " [6, 6, 7, 6, 6, 7, 7, 6, 6, 6, 6, 6, 2, 6, 6, 6, 12],\n",
       " [6, 6, 7, 6, 6, 7, 7, 6, 6, 6, 6, 6, 4, 6, 6, 6, 12],\n",
       " [6, 7, 7, 6, 7, 6, 7, 6, 7, 7, 6, 6, 1, 7, 6, 6, 9],\n",
       " [7, 6, 6, 7, 6, 6, 6, 7, 7, 7, 6, 6, 2, 7, 6, 7, 13],\n",
       " [6, 6, 7, 6, 6, 7, 7, 7, 7, 6, 6, 7, 0, 7, 6, 7, 10],\n",
       " [6, 6, 6, 7, 6, 7, 7, 7, 7, 7, 6, 7, 0, 7, 6, 7, 13],\n",
       " [6, 7, 7, 6, 7, 6, 6, 6, 7, 7, 6, 6, 1, 7, 7, 6, 9],\n",
       " [6, 7, 7, 6, 7, 7, 6, 6, 7, 7, 6, 6, 1, 7, 6, 6, 9],\n",
       " [7, 6, 6, 7, 6, 6, 6, 7, 7, 7, 6, 6, 2, 7, 6, 7, 13],\n",
       " [6, 7, 7, 6, 7, 6, 6, 6, 7, 7, 6, 6, 1, 7, 6, 7, 9],\n",
       " [6, 6, 7, 6, 6, 6, 6, 6, 6, 7, 6, 6, 4, 6, 6, 6, 11],\n",
       " [6, 6, 7, 6, 6, 7, 7, 7, 7, 7, 6, 6, 2, 6, 6, 6, 8],\n",
       " [6, 6, 7, 6, 6, 7, 7, 7, 7, 7, 7, 6, 2, 6, 6, 6, 8],\n",
       " [7, 6, 6, 7, 7, 6, 6, 7, 7, 7, 6, 6, 1, 7, 6, 6, 13],\n",
       " [7, 6, 6, 7, 6, 6, 6, 7, 7, 7, 6, 6, 2, 7, 6, 7, 13],\n",
       " [7, 6, 6, 7, 6, 6, 7, 7, 7, 7, 6, 6, 1, 6, 7, 7, 13],\n",
       " [6, 6, 7, 6, 7, 6, 6, 6, 6, 7, 6, 6, 4, 6, 6, 6, 11],\n",
       " [7, 6, 6, 7, 6, 6, 6, 7, 7, 7, 6, 6, 2, 7, 7, 7, 13],\n",
       " [7, 6, 6, 7, 6, 6, 6, 7, 7, 7, 6, 6, 1, 6, 6, 7, 13],\n",
       " [6, 7, 7, 6, 7, 7, 7, 6, 7, 7, 6, 6, 1, 7, 6, 6, 9],\n",
       " [6, 6, 7, 6, 6, 7, 6, 7, 7, 6, 6, 7, 0, 7, 6, 6, 10],\n",
       " [7, 6, 6, 7, 6, 6, 6, 7, 7, 7, 6, 6, 2, 7, 7, 6, 13],\n",
       " [7, 6, 6, 7, 6, 6, 6, 7, 7, 7, 6, 6, 2, 7, 6, 6, 13],\n",
       " [6, 7, 7, 6, 7, 6, 7, 6, 7, 7, 6, 6, 1, 7, 6, 6, 9],\n",
       " [6, 6, 7, 6, 6, 7, 7, 7, 7, 6, 6, 7, 0, 7, 6, 6, 10],\n",
       " [7, 6, 7, 6, 7, 6, 6, 6, 6, 7, 7, 6, 4, 6, 7, 6, 11],\n",
       " [7, 6, 7, 6, 7, 6, 6, 6, 6, 7, 6, 6, 4, 6, 6, 6, 11],\n",
       " [6, 7, 7, 6, 6, 6, 7, 6, 7, 7, 6, 6, 1, 7, 6, 6, 9],\n",
       " [6, 6, 7, 6, 7, 6, 7, 6, 6, 7, 6, 6, 4, 6, 6, 6, 11],\n",
       " [6, 7, 7, 6, 7, 6, 6, 6, 7, 7, 6, 6, 1, 7, 6, 6, 9],\n",
       " [7, 6, 6, 7, 6, 6, 7, 7, 7, 7, 6, 6, 2, 7, 6, 7, 13],\n",
       " [7, 6, 6, 7, 6, 6, 7, 7, 7, 7, 6, 6, 2, 7, 6, 7, 13],\n",
       " [6, 6, 7, 6, 6, 7, 7, 6, 6, 6, 6, 6, 4, 6, 6, 6, 12],\n",
       " [7, 6, 6, 7, 6, 6, 7, 7, 7, 7, 6, 6, 2, 7, 6, 7, 13],\n",
       " [7, 6, 6, 7, 6, 7, 7, 7, 7, 7, 6, 6, 2, 7, 6, 7, 13],\n",
       " [7, 6, 6, 7, 6, 6, 7, 7, 7, 7, 6, 6, 2, 7, 6, 6, 13],\n",
       " [7, 6, 6, 7, 6, 6, 7, 7, 7, 7, 6, 6, 2, 7, 6, 7, 13],\n",
       " [7, 6, 7, 6, 7, 6, 6, 6, 6, 7, 6, 6, 4, 6, 6, 6, 11],\n",
       " [6, 6, 7, 6, 6, 7, 7, 7, 7, 7, 6, 6, 2, 7, 6, 6, 8],\n",
       " [6, 6, 7, 6, 6, 7, 7, 6, 6, 6, 6, 6, 5, 6, 6, 7, 12],\n",
       " [7, 6, 6, 7, 6, 6, 7, 7, 7, 7, 6, 6, 2, 7, 6, 6, 13],\n",
       " [7, 6, 6, 7, 6, 6, 6, 7, 7, 7, 6, 6, 2, 7, 6, 7, 13],\n",
       " [6, 7, 7, 6, 6, 6, 6, 6, 7, 7, 6, 6, 1, 7, 6, 7, 9],\n",
       " [6, 7, 7, 6, 7, 6, 6, 6, 7, 7, 6, 6, 1, 7, 7, 6, 9],\n",
       " [6, 7, 7, 6, 6, 7, 7, 6, 7, 7, 6, 6, 1, 7, 6, 7, 9],\n",
       " [6, 7, 7, 6, 7, 6, 6, 6, 7, 7, 6, 6, 1, 7, 6, 6, 9],\n",
       " [6, 6, 7, 6, 6, 7, 7, 7, 7, 6, 6, 7, 0, 7, 6, 7, 10],\n",
       " [6, 6, 7, 6, 6, 7, 7, 7, 7, 6, 6, 7, 0, 7, 6, 6, 10],\n",
       " [6, 6, 7, 6, 6, 6, 7, 7, 7, 7, 7, 6, 0, 7, 6, 6, 14],\n",
       " [7, 6, 7, 7, 6, 7, 7, 6, 7, 7, 6, 6, 2, 7, 6, 7, 13],\n",
       " [7, 6, 6, 7, 6, 6, 7, 7, 7, 7, 6, 6, 2, 7, 6, 7, 13],\n",
       " [7, 6, 6, 7, 6, 6, 6, 7, 7, 7, 6, 6, 2, 7, 7, 7, 13],\n",
       " [6, 6, 6, 7, 6, 7, 7, 7, 7, 7, 6, 7, 0, 7, 6, 7, 13],\n",
       " [7, 6, 6, 7, 6, 6, 7, 7, 7, 7, 6, 6, 2, 7, 6, 7, 13],\n",
       " [7, 6, 6, 7, 6, 6, 7, 7, 7, 7, 6, 6, 2, 7, 7, 7, 13],\n",
       " [7, 6, 6, 7, 6, 6, 7, 7, 7, 7, 6, 6, 2, 7, 6, 7, 13],\n",
       " [7, 6, 6, 7, 6, 6, 6, 7, 7, 7, 6, 6, 2, 7, 7, 7, 13],\n",
       " [6, 7, 7, 6, 6, 6, 7, 6, 7, 7, 6, 6, 1, 7, 6, 7, 9],\n",
       " [6, 6, 6, 6, 6, 6, 7, 6, 6, 7, 7, 6, 5, 7, 6, 6, 12],\n",
       " [6, 6, 7, 6, 6, 7, 6, 7, 7, 6, 6, 7, 0, 7, 6, 6, 10],\n",
       " [7, 6, 6, 7, 6, 7, 7, 7, 7, 7, 6, 7, 0, 6, 6, 7, 13],\n",
       " [7, 6, 6, 7, 6, 7, 7, 7, 7, 7, 6, 7, 1, 7, 6, 7, 13],\n",
       " [6, 6, 6, 6, 6, 7, 7, 7, 7, 6, 7, 6, 0, 7, 6, 6, 14],\n",
       " [6, 6, 7, 6, 6, 7, 7, 6, 6, 6, 7, 6, 0, 6, 6, 6, 12],\n",
       " [6, 7, 7, 6, 7, 7, 7, 6, 7, 7, 6, 6, 1, 7, 6, 6, 9],\n",
       " [6, 7, 7, 6, 7, 7, 7, 6, 7, 7, 6, 6, 1, 7, 6, 6, 9],\n",
       " [6, 6, 7, 6, 6, 6, 7, 7, 7, 7, 6, 6, 0, 7, 6, 6, 14],\n",
       " [6, 6, 7, 6, 6, 6, 6, 6, 6, 7, 6, 6, 0, 6, 6, 6, 12],\n",
       " [6, 6, 7, 6, 6, 7, 6, 7, 7, 6, 6, 7, 0, 7, 6, 6, 10],\n",
       " [6, 7, 7, 6, 7, 6, 6, 6, 7, 7, 6, 6, 1, 7, 6, 6, 9],\n",
       " [7, 6, 6, 7, 6, 6, 6, 7, 7, 7, 6, 6, 1, 7, 6, 6, 13],\n",
       " [6, 6, 7, 6, 6, 7, 7, 6, 6, 6, 6, 6, 3, 6, 6, 6, 12],\n",
       " [6, 6, 7, 6, 6, 7, 7, 7, 7, 6, 7, 7, 0, 7, 6, 7, 10],\n",
       " [6, 7, 7, 6, 7, 7, 6, 6, 7, 7, 6, 6, 1, 7, 6, 7, 9],\n",
       " [6, 6, 7, 6, 6, 6, 6, 6, 6, 7, 6, 6, 4, 6, 6, 6, 11],\n",
       " [6, 6, 7, 6, 6, 7, 6, 7, 7, 7, 6, 6, 2, 6, 6, 6, 8],\n",
       " [6, 6, 7, 6, 6, 6, 6, 6, 7, 7, 6, 6, 2, 7, 6, 7, 14],\n",
       " [6, 6, 7, 6, 6, 6, 7, 7, 7, 7, 6, 6, 2, 7, 6, 6, 14],\n",
       " [6, 6, 7, 6, 6, 7, 7, 7, 7, 6, 6, 7, 0, 7, 6, 7, 10],\n",
       " [7, 6, 6, 7, 7, 6, 6, 7, 7, 7, 6, 6, 1, 7, 6, 6, 13],\n",
       " [7, 6, 6, 7, 6, 6, 6, 7, 7, 7, 6, 6, 2, 7, 6, 6, 13],\n",
       " [6, 7, 7, 6, 7, 6, 7, 6, 7, 7, 6, 6, 1, 7, 6, 7, 9],\n",
       " [7, 6, 6, 7, 6, 6, 6, 7, 7, 7, 6, 6, 1, 7, 6, 7, 13],\n",
       " [7, 6, 7, 6, 7, 6, 6, 6, 6, 7, 7, 6, 4, 6, 6, 6, 11],\n",
       " [7, 6, 6, 7, 6, 6, 7, 7, 7, 7, 6, 6, 2, 7, 6, 7, 13],\n",
       " [6, 6, 7, 6, 6, 6, 6, 6, 6, 7, 6, 6, 0, 6, 6, 6, 12],\n",
       " [6, 7, 7, 6, 7, 6, 6, 6, 7, 7, 6, 6, 1, 7, 6, 6, 9]]"
      ]
     },
     "execution_count": 6,
     "metadata": {},
     "output_type": "execute_result"
    }
   ],
   "source": [
    "zoo_list = []\n",
    "le = preprocessing.LabelEncoder()\n",
    "le.fit(unique)\n",
    "for i in range(len(zoo)):\n",
    "    zoo_list.append(list(le.transform(zoo[i])))\n",
    "zoo_list"
   ]
  },
  {
   "cell_type": "code",
   "execution_count": 9,
   "metadata": {},
   "outputs": [
    {
     "name": "stdout",
     "output_type": "stream",
     "text": [
      "[1.  0.  0.  1.  0.  0.  1.  1.  1.  1.  0.  0.  0.4 0.  0.  1. ]\n",
      "[1.  0.  0.  1.  0.  0.  0.  1.  1.  1.  0.  0.  0.4 1.  0.  1. ]\n",
      "[0. 0. 1. 0. 0. 1. 1. 1. 1. 0. 0. 1. 0. 1. 0. 0.]\n",
      "[1.  0.  0.  1.  0.  0.  1.  1.  1.  1.  0.  0.  0.4 0.  0.  1. ]\n",
      "[1.  0.  0.  1.  0.  0.  1.  1.  1.  1.  0.  0.  0.4 1.  0.  1. ]\n",
      "[1.  0.  0.  1.  0.  0.  0.  1.  1.  1.  0.  0.  0.4 1.  0.  1. ]\n",
      "[1.  0.  0.  1.  0.  0.  0.  1.  1.  1.  0.  0.  0.4 1.  1.  1. ]\n",
      "[0. 0. 1. 0. 0. 1. 0. 1. 1. 0. 0. 1. 0. 1. 1. 0.]\n",
      "[0. 0. 1. 0. 0. 1. 1. 1. 1. 0. 0. 1. 0. 1. 0. 0.]\n",
      "[1.  0.  0.  1.  0.  0.  0.  1.  1.  1.  0.  0.  0.4 0.  1.  0. ]\n",
      "[1.  0.  0.  1.  0.  0.  1.  1.  1.  1.  0.  0.  0.4 1.  0.  1. ]\n",
      "[0.  1.  1.  0.  1.  0.  0.  0.  1.  1.  0.  0.  0.2 1.  1.  0. ]\n",
      "[0. 0. 1. 0. 0. 1. 1. 1. 1. 0. 0. 1. 0. 1. 0. 0.]\n",
      "[0. 0. 1. 0. 0. 0. 1. 0. 0. 0. 0. 0. 0. 0. 0. 0.]\n",
      "[0.  0.  1.  0.  0.  1.  1.  0.  0.  0.  0.  0.  0.4 0.  0.  0. ]\n",
      "[0.  0.  1.  0.  0.  1.  1.  0.  0.  0.  0.  0.  0.8 0.  0.  0. ]\n",
      "[0.  1.  1.  0.  1.  0.  1.  0.  1.  1.  0.  0.  0.2 1.  0.  0. ]\n",
      "[1.  0.  0.  1.  0.  0.  0.  1.  1.  1.  0.  0.  0.4 1.  0.  1. ]\n",
      "[0. 0. 1. 0. 0. 1. 1. 1. 1. 0. 0. 1. 0. 1. 0. 1.]\n",
      "[0. 0. 0. 1. 0. 1. 1. 1. 1. 1. 0. 1. 0. 1. 0. 1.]\n",
      "[0.  1.  1.  0.  1.  0.  0.  0.  1.  1.  0.  0.  0.2 1.  1.  0. ]\n",
      "[0.  1.  1.  0.  1.  1.  0.  0.  1.  1.  0.  0.  0.2 1.  0.  0. ]\n",
      "[1.  0.  0.  1.  0.  0.  0.  1.  1.  1.  0.  0.  0.4 1.  0.  1. ]\n",
      "[0.  1.  1.  0.  1.  0.  0.  0.  1.  1.  0.  0.  0.2 1.  0.  1. ]\n",
      "[0.  0.  1.  0.  0.  0.  0.  0.  0.  1.  0.  0.  0.8 0.  0.  0. ]\n",
      "[0.  0.  1.  0.  0.  1.  1.  1.  1.  1.  0.  0.  0.4 0.  0.  0. ]\n",
      "[0.  0.  1.  0.  0.  1.  1.  1.  1.  1.  1.  0.  0.4 0.  0.  0. ]\n",
      "[1.  0.  0.  1.  1.  0.  0.  1.  1.  1.  0.  0.  0.2 1.  0.  0. ]\n",
      "[1.  0.  0.  1.  0.  0.  0.  1.  1.  1.  0.  0.  0.4 1.  0.  1. ]\n",
      "[1.  0.  0.  1.  0.  0.  1.  1.  1.  1.  0.  0.  0.2 0.  1.  1. ]\n",
      "[0.  0.  1.  0.  1.  0.  0.  0.  0.  1.  0.  0.  0.8 0.  0.  0. ]\n",
      "[1.  0.  0.  1.  0.  0.  0.  1.  1.  1.  0.  0.  0.4 1.  1.  1. ]\n",
      "[1.  0.  0.  1.  0.  0.  0.  1.  1.  1.  0.  0.  0.2 0.  0.  1. ]\n",
      "[0.  1.  1.  0.  1.  1.  1.  0.  1.  1.  0.  0.  0.2 1.  0.  0. ]\n",
      "[0. 0. 1. 0. 0. 1. 0. 1. 1. 0. 0. 1. 0. 1. 0. 0.]\n",
      "[1.  0.  0.  1.  0.  0.  0.  1.  1.  1.  0.  0.  0.4 1.  1.  0. ]\n",
      "[1.  0.  0.  1.  0.  0.  0.  1.  1.  1.  0.  0.  0.4 1.  0.  0. ]\n",
      "[0.  1.  1.  0.  1.  0.  1.  0.  1.  1.  0.  0.  0.2 1.  0.  0. ]\n",
      "[0. 0. 1. 0. 0. 1. 1. 1. 1. 0. 0. 1. 0. 1. 0. 0.]\n",
      "[1.  0.  1.  0.  1.  0.  0.  0.  0.  1.  1.  0.  0.8 0.  1.  0. ]\n",
      "[1.  0.  1.  0.  1.  0.  0.  0.  0.  1.  0.  0.  0.8 0.  0.  0. ]\n",
      "[0.  1.  1.  0.  0.  0.  1.  0.  1.  1.  0.  0.  0.2 1.  0.  0. ]\n",
      "[0.  0.  1.  0.  1.  0.  1.  0.  0.  1.  0.  0.  0.8 0.  0.  0. ]\n",
      "[0.  1.  1.  0.  1.  0.  0.  0.  1.  1.  0.  0.  0.2 1.  0.  0. ]\n",
      "[1.  0.  0.  1.  0.  0.  1.  1.  1.  1.  0.  0.  0.4 1.  0.  1. ]\n",
      "[1.  0.  0.  1.  0.  0.  1.  1.  1.  1.  0.  0.  0.4 1.  0.  1. ]\n",
      "[0.  0.  1.  0.  0.  1.  1.  0.  0.  0.  0.  0.  0.8 0.  0.  0. ]\n",
      "[1.  0.  0.  1.  0.  0.  1.  1.  1.  1.  0.  0.  0.4 1.  0.  1. ]\n",
      "[1.  0.  0.  1.  0.  1.  1.  1.  1.  1.  0.  0.  0.4 1.  0.  1. ]\n",
      "[1.  0.  0.  1.  0.  0.  1.  1.  1.  1.  0.  0.  0.4 1.  0.  0. ]\n",
      "[1.  0.  0.  1.  0.  0.  1.  1.  1.  1.  0.  0.  0.4 1.  0.  1. ]\n",
      "[1.  0.  1.  0.  1.  0.  0.  0.  0.  1.  0.  0.  0.8 0.  0.  0. ]\n",
      "[0.  0.  1.  0.  0.  1.  1.  1.  1.  1.  0.  0.  0.4 1.  0.  0. ]\n",
      "[0. 0. 1. 0. 0. 1. 1. 0. 0. 0. 0. 0. 1. 0. 0. 1.]\n",
      "[1.  0.  0.  1.  0.  0.  1.  1.  1.  1.  0.  0.  0.4 1.  0.  0. ]\n",
      "[1.  0.  0.  1.  0.  0.  0.  1.  1.  1.  0.  0.  0.4 1.  0.  1. ]\n",
      "[0.  1.  1.  0.  0.  0.  0.  0.  1.  1.  0.  0.  0.2 1.  0.  1. ]\n",
      "[0.  1.  1.  0.  1.  0.  0.  0.  1.  1.  0.  0.  0.2 1.  1.  0. ]\n",
      "[0.  1.  1.  0.  0.  1.  1.  0.  1.  1.  0.  0.  0.2 1.  0.  1. ]\n",
      "[0.  1.  1.  0.  1.  0.  0.  0.  1.  1.  0.  0.  0.2 1.  0.  0. ]\n",
      "[0. 0. 1. 0. 0. 1. 1. 1. 1. 0. 0. 1. 0. 1. 0. 1.]\n",
      "[0. 0. 1. 0. 0. 1. 1. 1. 1. 0. 0. 1. 0. 1. 0. 0.]\n",
      "[0. 0. 1. 0. 0. 0. 1. 1. 1. 1. 1. 0. 0. 1. 0. 0.]\n",
      "[1.  0.  1.  1.  0.  1.  1.  0.  1.  1.  0.  0.  0.4 1.  0.  1. ]\n",
      "[1.  0.  0.  1.  0.  0.  1.  1.  1.  1.  0.  0.  0.4 1.  0.  1. ]\n",
      "[1.  0.  0.  1.  0.  0.  0.  1.  1.  1.  0.  0.  0.4 1.  1.  1. ]\n",
      "[0. 0. 0. 1. 0. 1. 1. 1. 1. 1. 0. 1. 0. 1. 0. 1.]\n",
      "[1.  0.  0.  1.  0.  0.  1.  1.  1.  1.  0.  0.  0.4 1.  0.  1. ]\n",
      "[1.  0.  0.  1.  0.  0.  1.  1.  1.  1.  0.  0.  0.4 1.  1.  1. ]\n",
      "[1.  0.  0.  1.  0.  0.  1.  1.  1.  1.  0.  0.  0.4 1.  0.  1. ]\n",
      "[1.  0.  0.  1.  0.  0.  0.  1.  1.  1.  0.  0.  0.4 1.  1.  1. ]\n",
      "[0.  1.  1.  0.  0.  0.  1.  0.  1.  1.  0.  0.  0.2 1.  0.  1. ]\n",
      "[0. 0. 0. 0. 0. 0. 1. 0. 0. 1. 1. 0. 1. 1. 0. 0.]\n",
      "[0. 0. 1. 0. 0. 1. 0. 1. 1. 0. 0. 1. 0. 1. 0. 0.]\n",
      "[1. 0. 0. 1. 0. 1. 1. 1. 1. 1. 0. 1. 0. 0. 0. 1.]\n",
      "[1.  0.  0.  1.  0.  1.  1.  1.  1.  1.  0.  1.  0.2 1.  0.  1. ]\n",
      "[0. 0. 0. 0. 0. 1. 1. 1. 1. 0. 1. 0. 0. 1. 0. 0.]\n",
      "[0. 0. 1. 0. 0. 1. 1. 0. 0. 0. 1. 0. 0. 0. 0. 0.]\n",
      "[0.  1.  1.  0.  1.  1.  1.  0.  1.  1.  0.  0.  0.2 1.  0.  0. ]\n",
      "[0.  1.  1.  0.  1.  1.  1.  0.  1.  1.  0.  0.  0.2 1.  0.  0. ]\n",
      "[0. 0. 1. 0. 0. 0. 1. 1. 1. 1. 0. 0. 0. 1. 0. 0.]\n",
      "[0. 0. 1. 0. 0. 0. 0. 0. 0. 1. 0. 0. 0. 0. 0. 0.]\n",
      "[0. 0. 1. 0. 0. 1. 0. 1. 1. 0. 0. 1. 0. 1. 0. 0.]\n",
      "[0.  1.  1.  0.  1.  0.  0.  0.  1.  1.  0.  0.  0.2 1.  0.  0. ]\n",
      "[1.  0.  0.  1.  0.  0.  0.  1.  1.  1.  0.  0.  0.2 1.  0.  0. ]\n",
      "[0.  0.  1.  0.  0.  1.  1.  0.  0.  0.  0.  0.  0.6 0.  0.  0. ]\n",
      "[0. 0. 1. 0. 0. 1. 1. 1. 1. 0. 1. 1. 0. 1. 0. 1.]\n",
      "[0.  1.  1.  0.  1.  1.  0.  0.  1.  1.  0.  0.  0.2 1.  0.  1. ]\n",
      "[0.  0.  1.  0.  0.  0.  0.  0.  0.  1.  0.  0.  0.8 0.  0.  0. ]\n",
      "[0.  0.  1.  0.  0.  1.  0.  1.  1.  1.  0.  0.  0.4 0.  0.  0. ]\n",
      "[0.  0.  1.  0.  0.  0.  0.  0.  1.  1.  0.  0.  0.4 1.  0.  1. ]\n",
      "[0.  0.  1.  0.  0.  0.  1.  1.  1.  1.  0.  0.  0.4 1.  0.  0. ]\n",
      "[0. 0. 1. 0. 0. 1. 1. 1. 1. 0. 0. 1. 0. 1. 0. 1.]\n",
      "[1.  0.  0.  1.  1.  0.  0.  1.  1.  1.  0.  0.  0.2 1.  0.  0. ]\n",
      "[1.  0.  0.  1.  0.  0.  0.  1.  1.  1.  0.  0.  0.4 1.  0.  0. ]\n",
      "[0.  1.  1.  0.  1.  0.  1.  0.  1.  1.  0.  0.  0.2 1.  0.  1. ]\n",
      "[1.  0.  0.  1.  0.  0.  0.  1.  1.  1.  0.  0.  0.2 1.  0.  1. ]\n",
      "[1.  0.  1.  0.  1.  0.  0.  0.  0.  1.  1.  0.  0.8 0.  0.  0. ]\n",
      "[1.  0.  0.  1.  0.  0.  1.  1.  1.  1.  0.  0.  0.4 1.  0.  1. ]\n",
      "[0. 0. 1. 0. 0. 0. 0. 0. 0. 1. 0. 0. 0. 0. 0. 0.]\n",
      "[0.  1.  1.  0.  1.  0.  0.  0.  1.  1.  0.  0.  0.2 1.  0.  0. ]\n"
     ]
    },
    {
     "name": "stderr",
     "output_type": "stream",
     "text": [
      "C:\\Users\\gudrb\\Anaconda3\\lib\\site-packages\\sklearn\\utils\\validation.py:475: DataConversionWarning: Data with input dtype int64 was converted to float64 by MinMaxScaler.\n",
      "  warnings.warn(msg, DataConversionWarning)\n"
     ]
    }
   ],
   "source": [
    "from sklearn.preprocessing import MinMaxScaler\n",
    "min_max_scaler = preprocessing.MinMaxScaler()\n",
    "zoo_list_att = np.array(zoo_list)[:,:-1]\n",
    "data_scaled = min_max_scaler.fit_transform(zoo_list_att)\n",
    "for i in data_scaled:\n",
    "    print(i)"
   ]
  },
  {
   "cell_type": "code",
   "execution_count": 15,
   "metadata": {},
   "outputs": [
    {
     "name": "stdout",
     "output_type": "stream",
     "text": [
      "(70, 16) (70, 1)\n",
      "(31, 16) (31, 1)\n"
     ]
    }
   ],
   "source": [
    "from sklearn.cross_validation import train_test_split\n",
    "X_train, X_test, y_train, y_test = train_test_split(np.array(zoo_list)[:,:-1],np.array(zoo_list)[:,-1:],test_size=0.3,random_state=42)\n",
    "print(X_train.shape,y_train.shape)\n",
    "print(X_test.shape,y_test.shape)"
   ]
  },
  {
   "cell_type": "code",
   "execution_count": 19,
   "metadata": {},
   "outputs": [
    {
     "name": "stdout",
     "output_type": "stream",
     "text": [
      "the number of tests: 31, the number of errors: 699\n",
      "accuracy: 0.81\n"
     ]
    },
    {
     "name": "stderr",
     "output_type": "stream",
     "text": [
      "C:\\Users\\gudrb\\Anaconda3\\lib\\site-packages\\ipykernel_launcher.py:5: DataConversionWarning: A column-vector y was passed when a 1d array was expected. Please change the shape of y to (n_samples, ), for example using ravel().\n",
      "  \"\"\"\n"
     ]
    }
   ],
   "source": [
    "from sklearn.neighbors import NearestNeighbors\n",
    "from sklearn.neighbors import KNeighborsClassifier\n",
    "from sklearn.metrics import accuracy_score\n",
    "clf = KNeighborsClassifier(n_neighbors =7)\n",
    "clf.fit(X_train, y_train)\n",
    "predictions = clf.predict(X_test)\n",
    "print('the number of tests: %d, the number of errors: %d'%(len(y_test),(y_test!=predictions).sum()) )\n",
    "print('accuracy: %.2f'%accuracy_score(y_test,predictions))\n"
   ]
  },
  {
   "cell_type": "code",
   "execution_count": 33,
   "metadata": {
    "scrolled": true
   },
   "outputs": [
    {
     "data": {
      "image/png": "[encoded data removed]",
      "text/plain": [
       "<matplotlib.figure.Figure at 0x20114227358>"
      ]
     },
     "metadata": {},
     "output_type": "display_data"
    }
   ],
   "source": [
    "import matplotlib.pyplot as plt\n",
    "%matplotlib inline\n",
    "plt.xticks(np.arange(1),[7])\n",
    "ax = plt.gca()\n",
    "ax.set_xlim([-1,1])\n",
    "plt.bar(np.arange(1),accuracy_score(y_test,predictions))\n",
    "plt.show()"
   ]
  },
  {
   "cell_type": "code",
   "execution_count": 39,
   "metadata": {
    "scrolled": true
   },
   "outputs": [
    {
     "name": "stdout",
     "output_type": "stream",
     "text": [
      "[[0.         0.         0.         0.         0.         1.\n",
      "  0.        ]\n",
      " [0.         0.         0.         0.         0.         1.\n",
      "  0.        ]\n",
      " [0.         0.         0.57142857 0.         0.         0.42857143\n",
      "  0.        ]\n",
      " [0.         0.         0.         0.         0.         1.\n",
      "  0.        ]\n",
      " [0.         0.         0.         0.         0.         1.\n",
      "  0.        ]\n",
      " [0.         0.         0.         0.42857143 0.42857143 0.\n",
      "  0.14285714]\n",
      " [0.         0.         0.         0.         0.         1.\n",
      "  0.        ]\n",
      " [0.         0.         0.         0.         0.         1.\n",
      "  0.        ]\n",
      " [0.         0.         0.         0.         0.         1.\n",
      "  0.        ]\n",
      " [0.         0.         0.         0.         0.         1.\n",
      "  0.        ]\n",
      " [0.         0.         1.         0.         0.         0.\n",
      "  0.        ]\n",
      " [0.         0.         0.         0.42857143 0.57142857 0.\n",
      "  0.        ]\n",
      " [0.         0.         0.         0.42857143 0.42857143 0.\n",
      "  0.14285714]\n",
      " [0.         1.         0.         0.         0.         0.\n",
      "  0.        ]\n",
      " [0.         0.         0.42857143 0.         0.42857143 0.\n",
      "  0.14285714]\n",
      " [0.         0.         0.         0.         0.         1.\n",
      "  0.        ]\n",
      " [0.         0.         0.         0.         0.         1.\n",
      "  0.        ]\n",
      " [0.         1.         0.         0.         0.         0.\n",
      "  0.        ]\n",
      " [0.         0.         1.         0.         0.         0.\n",
      "  0.        ]\n",
      " [0.         0.         0.         0.         0.         1.\n",
      "  0.        ]\n",
      " [0.         0.         0.85714286 0.         0.         0.\n",
      "  0.14285714]\n",
      " [0.28571429 0.         0.         0.         0.14285714 0.28571429\n",
      "  0.28571429]\n",
      " [0.28571429 0.14285714 0.         0.         0.28571429 0.\n",
      "  0.28571429]\n",
      " [0.         0.         0.         0.42857143 0.57142857 0.\n",
      "  0.        ]\n",
      " [0.         0.         0.         0.         0.         1.\n",
      "  0.        ]\n",
      " [0.         0.         0.         0.42857143 0.57142857 0.\n",
      "  0.        ]\n",
      " [0.         0.         0.         0.42857143 0.42857143 0.\n",
      "  0.14285714]\n",
      " [0.         0.         0.         0.42857143 0.42857143 0.\n",
      "  0.14285714]\n",
      " [0.         0.         0.         0.         0.         1.\n",
      "  0.        ]\n",
      " [0.         0.         0.         0.         0.         1.\n",
      "  0.        ]\n",
      " [0.         1.         0.         0.         0.         0.\n",
      "  0.        ]]\n"
     ]
    }
   ],
   "source": [
    "pred_prob = clf.predict_proba(X_test)\n",
    "print(pred_prob)"
   ]
  },
  {
   "cell_type": "code",
   "execution_count": 46,
   "metadata": {},
   "outputs": [
    {
     "name": "stderr",
     "output_type": "stream",
     "text": [
      "C:\\Users\\gudrb\\Anaconda3\\lib\\site-packages\\ipykernel_launcher.py:5: DataConversionWarning: A column-vector y was passed when a 1d array was expected. Please change the shape of y to (n_samples, ), for example using ravel().\n",
      "  \"\"\"\n"
     ]
    },
    {
     "name": "stdout",
     "output_type": "stream",
     "text": [
      "n_neighbors:1 accuracy: 0.97\n",
      "n_neighbors:5 accuracy: 0.94\n",
      "n_neighbors:9 accuracy: 0.74\n",
      "n_neighbors:15 accuracy: 0.68\n",
      "n_neighbors:35 accuracy: 0.58\n"
     ]
    },
    {
     "data": {
      "image/png": "[encoded data removed]",
      "text/plain": [
       "<matplotlib.figure.Figure at 0x20114328828>"
      ]
     },
     "metadata": {},
     "output_type": "display_data"
    }
   ],
   "source": [
    "accuracy_array=[]\n",
    "n_neighbors_array = [1,5,9,15,35]\n",
    "for i in n_neighbors_array:\n",
    "    clf = KNeighborsClassifier(n_neighbors =i)\n",
    "    clf.fit(X_train,y_train)\n",
    "    y_pred = clf.predict(X_test)\n",
    "    print('n_neighbors:%d accuracy: %.2f'%(i,accuracy_score(y_test,y_pred)))\n",
    "    accuracy_array.append(accuracy_score(y_test,y_pred))\n",
    "plt.xticks(np.arange(5),n_neighbors_array)\n",
    "ax = plt.gca()\n",
    "ax.set_xlim([-1,5])\n",
    "plt.bar(np.arange(len(accuracy_array)),accuracy_array)\n",
    "plt.show()"
   ]
  },
  {
   "cell_type": "code",
   "execution_count": 47,
   "metadata": {},
   "outputs": [
    {
     "name": "stdout",
     "output_type": "stream",
     "text": [
      "weights:uniform accuracy: 0.94\n",
      "weights:distance accuracy: 0.94\n"
     ]
    },
    {
     "name": "stderr",
     "output_type": "stream",
     "text": [
      "C:\\Users\\gudrb\\Anaconda3\\lib\\site-packages\\ipykernel_launcher.py:5: DataConversionWarning: A column-vector y was passed when a 1d array was expected. Please change the shape of y to (n_samples, ), for example using ravel().\n",
      "  \"\"\"\n"
     ]
    },
    {
     "data": {
      "image/png": "[encoded data removed]",
      "text/plain": [
       "<matplotlib.figure.Figure at 0x20114372cc0>"
      ]
     },
     "metadata": {},
     "output_type": "display_data"
    }
   ],
   "source": [
    "accuracy_array=[]\n",
    "weights_array = ['uniform','distance']\n",
    "for i in weights_array:\n",
    "    clf = KNeighborsClassifier(weights=i)\n",
    "    clf.fit(X_train,y_train)\n",
    "    y_pred = clf.predict(X_test)\n",
    "    print('weights:%s accuracy: %.2f'%(i,accuracy_score(y_test,y_pred)))\n",
    "    accuracy_array.append(accuracy_score(y_test,y_pred))\n",
    "plt.xticks(np.arange(2),weights_array)\n",
    "ax = plt.gca()\n",
    "ax.set_xlim([-1,2])\n",
    "plt.bar(np.arange(len(accuracy_array)),accuracy_array)\n",
    "plt.show()"
   ]
  },
  {
   "cell_type": "markdown",
   "metadata": {},
   "source": [
    "'uniform' 방법은 기존의 knn방식으로 distance에 따라 majority voting을 실시한다.\n",
    "'distance' 방법은 distance에 inverse kernel을 적용한 값에 따라 각 class의 confidence를 계산하여 가장 높은 값을 가지는 class를 선택하는 weighted voting을 실시한다."
   ]
  },
  {
   "cell_type": "code",
   "execution_count": 49,
   "metadata": {},
   "outputs": [
    {
     "name": "stdout",
     "output_type": "stream",
     "text": [
      "p:1 accuracy: 0.97\n",
      "p:2 accuracy: 0.94\n"
     ]
    },
    {
     "name": "stderr",
     "output_type": "stream",
     "text": [
      "C:\\Users\\gudrb\\Anaconda3\\lib\\site-packages\\ipykernel_launcher.py:5: DataConversionWarning: A column-vector y was passed when a 1d array was expected. Please change the shape of y to (n_samples, ), for example using ravel().\n",
      "  \"\"\"\n"
     ]
    },
    {
     "data": {
      "image/png": "[encoded data removed]",
      "text/plain": [
       "<matplotlib.figure.Figure at 0x201141ff9e8>"
      ]
     },
     "metadata": {},
     "output_type": "display_data"
    }
   ],
   "source": [
    "accuracy_array=[]\n",
    "p_array = [1,2]\n",
    "for i in p_array:\n",
    "    clf = KNeighborsClassifier(p=i)\n",
    "    clf.fit(X_train,y_train)\n",
    "    y_pred = clf.predict(X_test)\n",
    "    print('p:%d accuracy: %.2f'%(i,accuracy_score(y_test,y_pred)))\n",
    "    accuracy_array.append(accuracy_score(y_test,y_pred))\n",
    "plt.xticks(np.arange(2),p_array)\n",
    "ax = plt.gca()\n",
    "ax.set_xlim([-1,2])\n",
    "plt.bar(np.arange(len(accuracy_array)),accuracy_array)\n",
    "plt.show()"
   ]
  },
  {
   "cell_type": "markdown",
   "metadata": {},
   "source": [
    "'p'값은 minkowski_distance의 파라미터 값을 의미한다. classification을 위해 dist를 계산할때 \n",
    "p가 1일 경우 manhattan distance로 계산하고, 2이면 euclidian distance로 계산한다."
   ]
  },
  {
   "cell_type": "code",
   "execution_count": 54,
   "metadata": {},
   "outputs": [
    {
     "data": {
      "text/plain": [
       "array([6, 6, 7, 6, 6, 6, 7, 7, 7, 7, 6, 6, 2, 7, 6, 6], dtype=int64)"
      ]
     },
     "execution_count": 54,
     "metadata": {},
     "output_type": "execute_result"
    }
   ],
   "source": [
    "X_train[0]"
   ]
  },
  {
   "cell_type": "code",
   "execution_count": 68,
   "metadata": {},
   "outputs": [
    {
     "name": "stdout",
     "output_type": "stream",
     "text": [
      "(array([[0.]]), array([[0]], dtype=int64))\n"
     ]
    }
   ],
   "source": [
    "from sklearn.neighbors import NearestNeighbors\n",
    "clf = NearestNeighbors(n_neighbors=1)\n",
    "clf.fit(X_train)\n",
    "print(clf.kneighbors([X_train[0]]))"
   ]
  }
 ],
 "metadata": {
  "kernelspec": {
   "display_name": "Python 3",
   "language": "python",
   "name": "python3"
  },
  "language_info": {
   "codemirror_mode": {
    "name": "ipython",
    "version": 3
   },
   "file_extension": ".py",
   "mimetype": "text/x-python",
   "name": "python",
   "nbconvert_exporter": "python",
   "pygments_lexer": "ipython3",
   "version": "3.6.3"
  }
 },
 "nbformat": 4,
 "nbformat_minor": 2
}
